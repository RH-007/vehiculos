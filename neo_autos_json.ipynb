{
 "cells": [
  {
   "cell_type": "markdown",
   "id": "afad7d7c",
   "metadata": {},
   "source": [
    "## **Neo Autos - CSV / JSON**"
   ]
  },
  {
   "cell_type": "code",
   "execution_count": 4,
   "id": "ef6833a6",
   "metadata": {},
   "outputs": [],
   "source": [
    "import json\n",
    "import pandas as pd"
   ]
  },
  {
   "cell_type": "code",
   "execution_count": 6,
   "id": "7273c5a9",
   "metadata": {},
   "outputs": [],
   "source": [
    "path = rf\"C:\\Users\\PC\\Desktop\\Proyectos\\Proyectos_Py\\7.Analisis_Autos\\vehiculos\\data\\categoria\""
   ]
  },
  {
   "cell_type": "code",
   "execution_count": 11,
   "id": "0d236222",
   "metadata": {},
   "outputs": [],
   "source": [
    "PATH = rf\"C:\\Users\\PC\\Desktop\\Proyectos\\Proyectos_Py\\7.Analisis_Autos\\vehiculos\\data\\categoria\""
   ]
  },
  {
   "cell_type": "code",
   "execution_count": 16,
   "id": "602e1b62",
   "metadata": {},
   "outputs": [],
   "source": [
    "vehiculo = [\"autos\"]\n",
    "\n",
    "categorias = [\"camionetas-suv\", \"sedan\", \"hatchback\", \"pick-up\", \"deportivo\"]\n",
    "\n",
    "unidad = [\"nuevos\", \"seminuevos\"]"
   ]
  },
  {
   "cell_type": "code",
   "execution_count": 26,
   "id": "ce2d7222",
   "metadata": {},
   "outputs": [
    {
     "name": "stdout",
     "output_type": "stream",
     "text": [
      "C:\\Users\\PC\\Desktop\\Proyectos\\Proyectos_Py\\7.Analisis_Autos\\vehiculos\\data\\categoria/neo_autos_img_autos_camionetas-suv_nuevos.json\n",
      "C:\\Users\\PC\\Desktop\\Proyectos\\Proyectos_Py\\7.Analisis_Autos\\vehiculos\\data\\categoria/neo_autos_img_autos_camionetas-suv_seminuevos.json\n",
      "C:\\Users\\PC\\Desktop\\Proyectos\\Proyectos_Py\\7.Analisis_Autos\\vehiculos\\data\\categoria/neo_autos_img_autos_sedan_nuevos.json\n",
      "C:\\Users\\PC\\Desktop\\Proyectos\\Proyectos_Py\\7.Analisis_Autos\\vehiculos\\data\\categoria/neo_autos_img_autos_sedan_seminuevos.json\n",
      "C:\\Users\\PC\\Desktop\\Proyectos\\Proyectos_Py\\7.Analisis_Autos\\vehiculos\\data\\categoria/neo_autos_img_autos_hatchback_nuevos.json\n",
      "C:\\Users\\PC\\Desktop\\Proyectos\\Proyectos_Py\\7.Analisis_Autos\\vehiculos\\data\\categoria/neo_autos_img_autos_hatchback_seminuevos.json\n",
      "C:\\Users\\PC\\Desktop\\Proyectos\\Proyectos_Py\\7.Analisis_Autos\\vehiculos\\data\\categoria/neo_autos_img_autos_pick-up_nuevos.json\n",
      "C:\\Users\\PC\\Desktop\\Proyectos\\Proyectos_Py\\7.Analisis_Autos\\vehiculos\\data\\categoria/neo_autos_img_autos_pick-up_seminuevos.json\n",
      "C:\\Users\\PC\\Desktop\\Proyectos\\Proyectos_Py\\7.Analisis_Autos\\vehiculos\\data\\categoria/neo_autos_img_autos_deportivo_nuevos.json\n",
      "C:\\Users\\PC\\Desktop\\Proyectos\\Proyectos_Py\\7.Analisis_Autos\\vehiculos\\data\\categoria/neo_autos_img_autos_deportivo_seminuevos.json\n"
     ]
    }
   ],
   "source": [
    "ruta = []\n",
    "for nombre in categorias:\n",
    "    for tipo in unidad:\n",
    "        file_path = f\"{PATH}/neo_autos_img_{vehiculo[0]}_{nombre}_{tipo}.json\"\n",
    "        print(file_path)# Display the first few rows of the DataFrame\n",
    "        \n",
    "        ruta.append(file_path)"
   ]
  },
  {
   "cell_type": "code",
   "execution_count": 27,
   "id": "aab648ff",
   "metadata": {},
   "outputs": [],
   "source": [
    "data_json = []\n",
    "\n",
    "for ruta_i in ruta:\n",
    "    with open(ruta_i, 'r', encoding='utf-8') as file:\n",
    "        data = json.load(file)\n",
    "        data_json.extend(data)\n",
    "        "
   ]
  },
  {
   "cell_type": "code",
   "execution_count": 30,
   "id": "4b9207bb",
   "metadata": {},
   "outputs": [
    {
     "data": {
      "text/plain": [
       "866"
      ]
     },
     "execution_count": 30,
     "metadata": {},
     "output_type": "execute_result"
    }
   ],
   "source": [
    "len(data_json)"
   ]
  },
  {
   "cell_type": "code",
   "execution_count": 31,
   "id": "e65729b3",
   "metadata": {},
   "outputs": [
    {
     "name": "stdout",
     "output_type": "stream",
     "text": [
      "\n",
      "Generando archivo JSON...\n",
      "\n"
     ]
    }
   ],
   "source": [
    "ruta_salida_img_json = rf\"C:\\Users\\PC\\Desktop\\Proyectos\\Proyectos_Py\\7.Analisis_Autos\\vehiculos\\data\\neo_autos_img_202510.json\"\n",
    "\n",
    "print(\"\\nGenerando archivo JSON...\\n\")\n",
    "with open(ruta_salida_img_json, \"w\", encoding=\"utf-8\") as f:\n",
    "    json.dump(data_json, f, ensure_ascii=False, indent=2)\n",
    "    "
   ]
  },
  {
   "cell_type": "markdown",
   "id": "e5bc2aed",
   "metadata": {},
   "source": [
    "## **Generacion de archivos CSV: Categoria - General**"
   ]
  },
  {
   "cell_type": "code",
   "execution_count": 35,
   "id": "e5ad858c",
   "metadata": {},
   "outputs": [],
   "source": [
    "import pandas as pd\n",
    "import numpy as np\n",
    "from pathlib import Path"
   ]
  },
  {
   "cell_type": "code",
   "execution_count": 38,
   "id": "673398f1",
   "metadata": {},
   "outputs": [
    {
     "name": "stdout",
     "output_type": "stream",
     "text": [
      "C:\\Users\\PC\\Desktop\\Proyectos\\Proyectos_Py\\7.Analisis_Autos\\vehiculos\\data\\categoria/neo_autos_autos_camionetas-suv_nuevos.csv\n",
      "C:\\Users\\PC\\Desktop\\Proyectos\\Proyectos_Py\\7.Analisis_Autos\\vehiculos\\data\\categoria/neo_autos_autos_camionetas-suv_seminuevos.csv\n",
      "C:\\Users\\PC\\Desktop\\Proyectos\\Proyectos_Py\\7.Analisis_Autos\\vehiculos\\data\\categoria/neo_autos_autos_sedan_nuevos.csv\n",
      "C:\\Users\\PC\\Desktop\\Proyectos\\Proyectos_Py\\7.Analisis_Autos\\vehiculos\\data\\categoria/neo_autos_autos_sedan_seminuevos.csv\n",
      "C:\\Users\\PC\\Desktop\\Proyectos\\Proyectos_Py\\7.Analisis_Autos\\vehiculos\\data\\categoria/neo_autos_autos_hatchback_nuevos.csv\n",
      "C:\\Users\\PC\\Desktop\\Proyectos\\Proyectos_Py\\7.Analisis_Autos\\vehiculos\\data\\categoria/neo_autos_autos_hatchback_seminuevos.csv\n",
      "C:\\Users\\PC\\Desktop\\Proyectos\\Proyectos_Py\\7.Analisis_Autos\\vehiculos\\data\\categoria/neo_autos_autos_pick-up_nuevos.csv\n",
      "C:\\Users\\PC\\Desktop\\Proyectos\\Proyectos_Py\\7.Analisis_Autos\\vehiculos\\data\\categoria/neo_autos_autos_pick-up_seminuevos.csv\n",
      "C:\\Users\\PC\\Desktop\\Proyectos\\Proyectos_Py\\7.Analisis_Autos\\vehiculos\\data\\categoria/neo_autos_autos_deportivo_nuevos.csv\n",
      "C:\\Users\\PC\\Desktop\\Proyectos\\Proyectos_Py\\7.Analisis_Autos\\vehiculos\\data\\categoria/neo_autos_autos_deportivo_seminuevos.csv\n"
     ]
    }
   ],
   "source": [
    "ruta_csv = []\n",
    "\n",
    "for nombre in categorias:\n",
    "    for tipo in unidad:\n",
    "        file_path = f\"{PATH}/neo_autos_{vehiculo[0]}_{nombre}_{tipo}.csv\"\n",
    "        print(file_path)# Display the first few rows of the DataFrame\n",
    "        \n",
    "        ruta_csv.append(file_path)"
   ]
  },
  {
   "cell_type": "code",
   "execution_count": 36,
   "id": "fdb08611",
   "metadata": {},
   "outputs": [
    {
     "data": {
      "text/plain": [
       "[WindowsPath('C:/Users/PC/Desktop/Proyectos/Proyectos_Py/7.Analisis_Autos/vehiculos/data/neo_autos_categoria.csv'),\n",
       " WindowsPath('C:/Users/PC/Desktop/Proyectos/Proyectos_Py/7.Analisis_Autos/vehiculos/data/neo_autos_general.csv')]"
      ]
     },
     "execution_count": 36,
     "metadata": {},
     "output_type": "execute_result"
    }
   ],
   "source": [
    "rutas = Path(rf\"C:\\Users\\PC\\Desktop\\Proyectos\\Proyectos_Py\\7.Analisis_Autos\\vehiculos\\data\")\n",
    "archivos_csv = list(rutas.glob('*.csv'))\n",
    "archivos_csv"
   ]
  },
  {
   "cell_type": "code",
   "execution_count": 40,
   "id": "abc2e38f",
   "metadata": {},
   "outputs": [
    {
     "name": "stdout",
     "output_type": "stream",
     "text": [
      "Archivos CSV encontrados (10):\n",
      "- C:\\Users\\PC\\Desktop\\Proyectos\\Proyectos_Py\\7.Analisis_Autos\\vehiculos\\data\\categoria/neo_autos_autos_camionetas-suv_nuevos.csv\n",
      "- C:\\Users\\PC\\Desktop\\Proyectos\\Proyectos_Py\\7.Analisis_Autos\\vehiculos\\data\\categoria/neo_autos_autos_camionetas-suv_seminuevos.csv\n",
      "- C:\\Users\\PC\\Desktop\\Proyectos\\Proyectos_Py\\7.Analisis_Autos\\vehiculos\\data\\categoria/neo_autos_autos_sedan_nuevos.csv\n",
      "- C:\\Users\\PC\\Desktop\\Proyectos\\Proyectos_Py\\7.Analisis_Autos\\vehiculos\\data\\categoria/neo_autos_autos_sedan_seminuevos.csv\n",
      "- C:\\Users\\PC\\Desktop\\Proyectos\\Proyectos_Py\\7.Analisis_Autos\\vehiculos\\data\\categoria/neo_autos_autos_hatchback_nuevos.csv\n",
      "- C:\\Users\\PC\\Desktop\\Proyectos\\Proyectos_Py\\7.Analisis_Autos\\vehiculos\\data\\categoria/neo_autos_autos_hatchback_seminuevos.csv\n",
      "- C:\\Users\\PC\\Desktop\\Proyectos\\Proyectos_Py\\7.Analisis_Autos\\vehiculos\\data\\categoria/neo_autos_autos_pick-up_nuevos.csv\n",
      "- C:\\Users\\PC\\Desktop\\Proyectos\\Proyectos_Py\\7.Analisis_Autos\\vehiculos\\data\\categoria/neo_autos_autos_pick-up_seminuevos.csv\n",
      "- C:\\Users\\PC\\Desktop\\Proyectos\\Proyectos_Py\\7.Analisis_Autos\\vehiculos\\data\\categoria/neo_autos_autos_deportivo_nuevos.csv\n",
      "- C:\\Users\\PC\\Desktop\\Proyectos\\Proyectos_Py\\7.Analisis_Autos\\vehiculos\\data\\categoria/neo_autos_autos_deportivo_seminuevos.csv\n"
     ]
    },
    {
     "data": {
      "application/vnd.microsoft.datawrangler.viewer.v0+json": {
       "columns": [
        {
         "name": "index",
         "rawType": "int64",
         "type": "integer"
        },
        {
         "name": "titulo",
         "rawType": "object",
         "type": "string"
        },
        {
         "name": "tipo",
         "rawType": "object",
         "type": "string"
        },
        {
         "name": "categoria",
         "rawType": "object",
         "type": "string"
        },
        {
         "name": "marca",
         "rawType": "object",
         "type": "string"
        },
        {
         "name": "modelo",
         "rawType": "object",
         "type": "string"
        },
        {
         "name": "año",
         "rawType": "float64",
         "type": "float"
        },
        {
         "name": "kilometraje_km",
         "rawType": "float64",
         "type": "float"
        },
        {
         "name": "precio",
         "rawType": "float64",
         "type": "float"
        },
        {
         "name": "precio_etiqueta",
         "rawType": "object",
         "type": "string"
        },
        {
         "name": "tipo_transmision",
         "rawType": "object",
         "type": "string"
        },
        {
         "name": "caja",
         "rawType": "object",
         "type": "unknown"
        },
        {
         "name": "detalle",
         "rawType": "object",
         "type": "string"
        },
        {
         "name": "tags",
         "rawType": "object",
         "type": "unknown"
        },
        {
         "name": "ubicacion",
         "rawType": "object",
         "type": "string"
        },
        {
         "name": "url_auto",
         "rawType": "object",
         "type": "string"
        }
       ],
       "ref": "7c2ff686-eb48-4fdd-8a90-8f8a3d41ecc7",
       "rows": [
        [
         "0",
         "Hyundai Creta Grand 2025",
         "nuevo",
         "camionetas-suv",
         "Hyundai",
         "Creta Grand",
         "2025.0",
         null,
         "25490.0",
         "$20K - $30K",
         "Automática",
         null,
         "Gasolina|Automática\nLima, Lima",
         null,
         "Lima, Lima",
         "https://neoauto.com/auto/nuevo/hyundai-creta-grand-2025-1848730"
        ],
        [
         "1",
         "Hyundai Creta Grand 2024",
         "nuevo",
         "camionetas-suv",
         "Hyundai",
         "Creta Grand",
         "2024.0",
         "0.0",
         "25490.0",
         "$20K - $30K",
         "Automática",
         null,
         "Gasolina|Automática\nLima, Lima\nAUTO 0 KM A PRECIO DE SEMINUEVO VERSION SPORT",
         null,
         "Lima, Lima",
         "https://neoauto.com/auto/nuevo/hyundai-creta-grand-2024-1846383"
        ],
        [
         "2",
         "Hyundai Creta Grand 2025",
         "nuevo",
         "camionetas-suv",
         "Hyundai",
         "Creta Grand",
         "2025.0",
         "0.0",
         "25490.0",
         "$20K - $30K",
         "Automática",
         null,
         "Gasolina|Automática\nLima, Lima\nAUTO 0 KM A PRECIO DE SEMINUEVO",
         null,
         "Lima, Lima",
         "https://neoauto.com/auto/nuevo/hyundai-creta-grand-2025-1846378"
        ],
        [
         "3",
         "Hyundai Creta Grand 2025",
         "nuevo",
         "camionetas-suv",
         "Hyundai",
         "Creta Grand",
         "2025.0",
         "0.0",
         "25490.0",
         "$20K - $30K",
         "Automática",
         null,
         "Gasolina|Automática\nLima, Lima\nAUTO 0 KM A PRECIO DE SEMINUEVO VERSIÓN FULL",
         null,
         "Lima, Lima",
         "https://neoauto.com/auto/nuevo/hyundai-creta-grand-2025-1846390"
        ],
        [
         "4",
         "Hyundai Creta Grand 2025",
         "nuevo",
         "camionetas-suv",
         "Hyundai",
         "Creta Grand",
         "2025.0",
         null,
         "25490.0",
         "$20K - $30K",
         "Automática",
         null,
         "Gasolina|Automática\nLima, Lima",
         null,
         "Lima, Lima",
         "https://neoauto.com/auto/nuevo/hyundai-creta-grand-2025-1848732"
        ]
       ],
       "shape": {
        "columns": 15,
        "rows": 5
       }
      },
      "text/html": [
       "<div>\n",
       "<style scoped>\n",
       "    .dataframe tbody tr th:only-of-type {\n",
       "        vertical-align: middle;\n",
       "    }\n",
       "\n",
       "    .dataframe tbody tr th {\n",
       "        vertical-align: top;\n",
       "    }\n",
       "\n",
       "    .dataframe thead th {\n",
       "        text-align: right;\n",
       "    }\n",
       "</style>\n",
       "<table border=\"1\" class=\"dataframe\">\n",
       "  <thead>\n",
       "    <tr style=\"text-align: right;\">\n",
       "      <th></th>\n",
       "      <th>titulo</th>\n",
       "      <th>tipo</th>\n",
       "      <th>categoria</th>\n",
       "      <th>marca</th>\n",
       "      <th>modelo</th>\n",
       "      <th>año</th>\n",
       "      <th>kilometraje_km</th>\n",
       "      <th>precio</th>\n",
       "      <th>precio_etiqueta</th>\n",
       "      <th>tipo_transmision</th>\n",
       "      <th>caja</th>\n",
       "      <th>detalle</th>\n",
       "      <th>tags</th>\n",
       "      <th>ubicacion</th>\n",
       "      <th>url_auto</th>\n",
       "    </tr>\n",
       "  </thead>\n",
       "  <tbody>\n",
       "    <tr>\n",
       "      <th>0</th>\n",
       "      <td>Hyundai Creta Grand 2025</td>\n",
       "      <td>nuevo</td>\n",
       "      <td>camionetas-suv</td>\n",
       "      <td>Hyundai</td>\n",
       "      <td>Creta Grand</td>\n",
       "      <td>2025.0</td>\n",
       "      <td>NaN</td>\n",
       "      <td>25490.0</td>\n",
       "      <td>$20K - $30K</td>\n",
       "      <td>Automática</td>\n",
       "      <td>NaN</td>\n",
       "      <td>Gasolina|Automática\\nLima, Lima</td>\n",
       "      <td>NaN</td>\n",
       "      <td>Lima, Lima</td>\n",
       "      <td>https://neoauto.com/auto/nuevo/hyundai-creta-g...</td>\n",
       "    </tr>\n",
       "    <tr>\n",
       "      <th>1</th>\n",
       "      <td>Hyundai Creta Grand 2024</td>\n",
       "      <td>nuevo</td>\n",
       "      <td>camionetas-suv</td>\n",
       "      <td>Hyundai</td>\n",
       "      <td>Creta Grand</td>\n",
       "      <td>2024.0</td>\n",
       "      <td>0.0</td>\n",
       "      <td>25490.0</td>\n",
       "      <td>$20K - $30K</td>\n",
       "      <td>Automática</td>\n",
       "      <td>NaN</td>\n",
       "      <td>Gasolina|Automática\\nLima, Lima\\nAUTO 0 KM A P...</td>\n",
       "      <td>NaN</td>\n",
       "      <td>Lima, Lima</td>\n",
       "      <td>https://neoauto.com/auto/nuevo/hyundai-creta-g...</td>\n",
       "    </tr>\n",
       "    <tr>\n",
       "      <th>2</th>\n",
       "      <td>Hyundai Creta Grand 2025</td>\n",
       "      <td>nuevo</td>\n",
       "      <td>camionetas-suv</td>\n",
       "      <td>Hyundai</td>\n",
       "      <td>Creta Grand</td>\n",
       "      <td>2025.0</td>\n",
       "      <td>0.0</td>\n",
       "      <td>25490.0</td>\n",
       "      <td>$20K - $30K</td>\n",
       "      <td>Automática</td>\n",
       "      <td>NaN</td>\n",
       "      <td>Gasolina|Automática\\nLima, Lima\\nAUTO 0 KM A P...</td>\n",
       "      <td>NaN</td>\n",
       "      <td>Lima, Lima</td>\n",
       "      <td>https://neoauto.com/auto/nuevo/hyundai-creta-g...</td>\n",
       "    </tr>\n",
       "    <tr>\n",
       "      <th>3</th>\n",
       "      <td>Hyundai Creta Grand 2025</td>\n",
       "      <td>nuevo</td>\n",
       "      <td>camionetas-suv</td>\n",
       "      <td>Hyundai</td>\n",
       "      <td>Creta Grand</td>\n",
       "      <td>2025.0</td>\n",
       "      <td>0.0</td>\n",
       "      <td>25490.0</td>\n",
       "      <td>$20K - $30K</td>\n",
       "      <td>Automática</td>\n",
       "      <td>NaN</td>\n",
       "      <td>Gasolina|Automática\\nLima, Lima\\nAUTO 0 KM A P...</td>\n",
       "      <td>NaN</td>\n",
       "      <td>Lima, Lima</td>\n",
       "      <td>https://neoauto.com/auto/nuevo/hyundai-creta-g...</td>\n",
       "    </tr>\n",
       "    <tr>\n",
       "      <th>4</th>\n",
       "      <td>Hyundai Creta Grand 2025</td>\n",
       "      <td>nuevo</td>\n",
       "      <td>camionetas-suv</td>\n",
       "      <td>Hyundai</td>\n",
       "      <td>Creta Grand</td>\n",
       "      <td>2025.0</td>\n",
       "      <td>NaN</td>\n",
       "      <td>25490.0</td>\n",
       "      <td>$20K - $30K</td>\n",
       "      <td>Automática</td>\n",
       "      <td>NaN</td>\n",
       "      <td>Gasolina|Automática\\nLima, Lima</td>\n",
       "      <td>NaN</td>\n",
       "      <td>Lima, Lima</td>\n",
       "      <td>https://neoauto.com/auto/nuevo/hyundai-creta-g...</td>\n",
       "    </tr>\n",
       "  </tbody>\n",
       "</table>\n",
       "</div>"
      ],
      "text/plain": [
       "                     titulo   tipo       categoria    marca       modelo  \\\n",
       "0  Hyundai Creta Grand 2025  nuevo  camionetas-suv  Hyundai  Creta Grand   \n",
       "1  Hyundai Creta Grand 2024  nuevo  camionetas-suv  Hyundai  Creta Grand   \n",
       "2  Hyundai Creta Grand 2025  nuevo  camionetas-suv  Hyundai  Creta Grand   \n",
       "3  Hyundai Creta Grand 2025  nuevo  camionetas-suv  Hyundai  Creta Grand   \n",
       "4  Hyundai Creta Grand 2025  nuevo  camionetas-suv  Hyundai  Creta Grand   \n",
       "\n",
       "      año  kilometraje_km   precio precio_etiqueta tipo_transmision caja  \\\n",
       "0  2025.0             NaN  25490.0     $20K - $30K       Automática  NaN   \n",
       "1  2024.0             0.0  25490.0     $20K - $30K       Automática  NaN   \n",
       "2  2025.0             0.0  25490.0     $20K - $30K       Automática  NaN   \n",
       "3  2025.0             0.0  25490.0     $20K - $30K       Automática  NaN   \n",
       "4  2025.0             NaN  25490.0     $20K - $30K       Automática  NaN   \n",
       "\n",
       "                                             detalle tags   ubicacion  \\\n",
       "0                    Gasolina|Automática\\nLima, Lima  NaN  Lima, Lima   \n",
       "1  Gasolina|Automática\\nLima, Lima\\nAUTO 0 KM A P...  NaN  Lima, Lima   \n",
       "2  Gasolina|Automática\\nLima, Lima\\nAUTO 0 KM A P...  NaN  Lima, Lima   \n",
       "3  Gasolina|Automática\\nLima, Lima\\nAUTO 0 KM A P...  NaN  Lima, Lima   \n",
       "4                    Gasolina|Automática\\nLima, Lima  NaN  Lima, Lima   \n",
       "\n",
       "                                            url_auto  \n",
       "0  https://neoauto.com/auto/nuevo/hyundai-creta-g...  \n",
       "1  https://neoauto.com/auto/nuevo/hyundai-creta-g...  \n",
       "2  https://neoauto.com/auto/nuevo/hyundai-creta-g...  \n",
       "3  https://neoauto.com/auto/nuevo/hyundai-creta-g...  \n",
       "4  https://neoauto.com/auto/nuevo/hyundai-creta-g...  "
      ]
     },
     "execution_count": 40,
     "metadata": {},
     "output_type": "execute_result"
    }
   ],
   "source": [
    "if not ruta_csv:\n",
    "    print(f\"No se encontraron archivos CSV en la ruta: {rutas}\")\n",
    "else:\n",
    "    print(f\"Archivos CSV encontrados ({len(ruta_csv)}):\")\n",
    "    for archivo in ruta_csv:\n",
    "        print(f\"- {archivo}\")\n",
    "\n",
    "    lista_de_dfs = [pd.read_csv(archivo, sep = \"|\") for archivo in archivos_csv]\n",
    "\n",
    "    df_combinado = pd.concat(lista_de_dfs, ignore_index=True)\n",
    "\n",
    "\n",
    "df_combinado.head()"
   ]
  },
  {
   "cell_type": "code",
   "execution_count": 42,
   "id": "398aabdf",
   "metadata": {},
   "outputs": [
    {
     "data": {
      "application/vnd.microsoft.datawrangler.viewer.v0+json": {
       "columns": [
        {
         "name": "index",
         "rawType": "int64",
         "type": "integer"
        },
        {
         "name": "titulo",
         "rawType": "object",
         "type": "string"
        },
        {
         "name": "marca",
         "rawType": "object",
         "type": "string"
        },
        {
         "name": "tipo",
         "rawType": "object",
         "type": "string"
        },
        {
         "name": "precio",
         "rawType": "float64",
         "type": "float"
        },
        {
         "name": "kilometraje_km",
         "rawType": "float64",
         "type": "float"
        },
        {
         "name": "url_auto",
         "rawType": "object",
         "type": "string"
        }
       ],
       "ref": "82f74275-ceec-4a95-9dba-30f37f68a00f",
       "rows": [
        [
         "0",
         "Hyundai Creta Grand 2025",
         "Hyundai",
         "nuevo",
         "25490.0",
         null,
         "https://neoauto.com/auto/nuevo/hyundai-creta-grand-2025-1848730"
        ],
        [
         "1",
         "Hyundai Creta Grand 2024",
         "Hyundai",
         "nuevo",
         "25490.0",
         "0.0",
         "https://neoauto.com/auto/nuevo/hyundai-creta-grand-2024-1846383"
        ],
        [
         "2",
         "Hyundai Creta Grand 2025",
         "Hyundai",
         "nuevo",
         "25490.0",
         "0.0",
         "https://neoauto.com/auto/nuevo/hyundai-creta-grand-2025-1846378"
        ],
        [
         "3",
         "Hyundai Creta Grand 2025",
         "Hyundai",
         "nuevo",
         "25490.0",
         "0.0",
         "https://neoauto.com/auto/nuevo/hyundai-creta-grand-2025-1846390"
        ],
        [
         "4",
         "Hyundai Creta Grand 2025",
         "Hyundai",
         "nuevo",
         "25490.0",
         null,
         "https://neoauto.com/auto/nuevo/hyundai-creta-grand-2025-1848732"
        ],
        [
         "5",
         "Hyundai Creta Grand 2024",
         "Hyundai",
         "nuevo",
         "25490.0",
         "0.0",
         "https://neoauto.com/auto/nuevo/hyundai-creta-grand-2024-1846387"
        ],
        [
         "6",
         "Mitsubishi Outlander Sport 2026",
         "Mitsubishi",
         "nuevo",
         "23990.0",
         null,
         "https://neoauto.com/auto/nuevo/mitsubishi-outlander-sport-2026-1848948"
        ],
        [
         "7",
         "Hyundai Creta Grand 2025",
         "Hyundai",
         "nuevo",
         "25990.0",
         null,
         "https://neoauto.com/auto/nuevo/hyundai-creta-grand-2025-1846397"
        ],
        [
         "8",
         "Kia Sportage 2024",
         "Kia",
         "nuevo",
         "29990.0",
         "0.0",
         "https://neoauto.com/auto/nuevo/kia-sportage-2024-1846415"
        ],
        [
         "9",
         "Mitsubishi Outlander 2026",
         "Mitsubishi",
         "nuevo",
         "36990.0",
         null,
         "https://neoauto.com/auto/nuevo/mitsubishi-outlander-2026-1848946"
        ],
        [
         "10",
         "Nissan X-Trail 2025",
         "Nissan",
         "nuevo",
         "31660.0",
         "0.0",
         "https://neoauto.com/auto/nuevo/nissan-x-trail-2025-1709646"
        ],
        [
         "11",
         "Honda Cr-V 2025",
         "Honda",
         "nuevo",
         "41490.0",
         "0.0",
         "https://neoauto.com/auto/nuevo/honda-cr-v-2025-1709635"
        ],
        [
         "12",
         "Renault Stepway 2025",
         "Renault",
         "nuevo",
         "16490.0",
         "0.0",
         "https://neoauto.com/auto/nuevo/renault-stepway-2025-1705791"
        ],
        [
         "13",
         "Mazda Cx-30 2026",
         "Mazda",
         "nuevo",
         "27990.0",
         "0.0",
         "https://neoauto.com/auto/nuevo/mazda-cx-30-2026-1705778"
        ],
        [
         "14",
         "Kia Sportage 2024",
         "Kia",
         "nuevo",
         "29990.0",
         "0.0",
         "https://neoauto.com/auto/nuevo/kia-sportage-2024-1846413"
        ],
        [
         "15",
         "Kia Sportage 2024",
         "Kia",
         "nuevo",
         "29990.0",
         "0.0",
         "https://neoauto.com/auto/nuevo/kia-sportage-2024-1846409"
        ],
        [
         "16",
         "Kia Sportage 2025",
         "Kia",
         "nuevo",
         "30990.0",
         "0.0",
         "https://neoauto.com/auto/nuevo/kia-sportage-2025-1846406"
        ],
        [
         "17",
         "Ford Expedition 2025",
         "Ford",
         "nuevo",
         "83990.0",
         "0.0",
         "https://neoauto.com/auto/nuevo/ford-expedition-2025-1743700"
        ],
        [
         "18",
         "Nissan X-Trail E-Power 2025",
         "Nissan",
         "nuevo",
         "47740.0",
         "0.0",
         "https://neoauto.com/auto/nuevo/nissan-x-trail-e-power-2025-1827089"
        ],
        [
         "19",
         "Kia Sportage 2024",
         "Kia",
         "nuevo",
         "29990.0",
         "0.0",
         "https://neoauto.com/auto/nuevo/kia-sportage-2024-1846410"
        ],
        [
         "20",
         "Renault Duster 2026",
         "Renault",
         "nuevo",
         "19490.0",
         "0.0",
         "https://neoauto.com/auto/nuevo/renault-duster-2026-1705784"
        ],
        [
         "21",
         "Mazda Cx-9 2025",
         "Mazda",
         "nuevo",
         "38990.0",
         "0.0",
         "https://neoauto.com/auto/nuevo/mazda-cx-9-2025-1734339"
        ],
        [
         "22",
         "Ford Escape 2024",
         "Ford",
         "nuevo",
         "37990.0",
         "0.0",
         "https://neoauto.com/auto/nuevo/ford-escape-2024-1827144"
        ],
        [
         "23",
         "Hyundai Palisade 2025",
         "Hyundai",
         "nuevo",
         "49990.0",
         "0.0",
         "https://neoauto.com/auto/nuevo/hyundai-palisade-2025-1702785"
        ],
        [
         "24",
         "Dfsk E5 2025",
         "DFSK",
         "nuevo",
         "29990.0",
         "0.0",
         "https://neoauto.com/auto/nuevo/dfsk-e5-2025-1827084"
        ],
        [
         "25",
         "Mazda Cx-90 2026",
         "Mazda",
         "nuevo",
         "48490.0",
         "0.0",
         "https://neoauto.com/auto/nuevo/mazda-cx-90-2026-1743573"
        ],
        [
         "26",
         "Kia Sportage 2024",
         "Kia",
         "nuevo",
         "29990.0",
         "0.0",
         "https://neoauto.com/auto/nuevo/kia-sportage-2024-1846340"
        ],
        [
         "27",
         "Hyundai Stargazer 2025",
         "Hyundai",
         "nuevo",
         "22490.0",
         "0.0",
         "https://neoauto.com/auto/nuevo/hyundai-stargazer-2025-1827060"
        ],
        [
         "28",
         "Mitsubishi Montero Sport 2025",
         "Mitsubishi",
         "nuevo",
         "56990.0",
         null,
         "https://neoauto.com/auto/nuevo/mitsubishi-montero-sport-2025-1848947"
        ],
        [
         "29",
         "Kia Sportage 2025",
         "Kia",
         "nuevo",
         "30990.0",
         "0.0",
         "https://neoauto.com/auto/nuevo/kia-sportage-2025-1846418"
        ],
        [
         "30",
         "Kia Sportage 2025",
         "Kia",
         "nuevo",
         "30990.0",
         "0.0",
         "https://neoauto.com/auto/nuevo/kia-sportage-2025-1846376"
        ],
        [
         "31",
         "Nissan Qashqai 2025",
         "Nissan",
         "nuevo",
         "31090.0",
         "0.0",
         "https://neoauto.com/auto/nuevo/nissan-qashqai-2025-1827053"
        ],
        [
         "32",
         "Mazda Cx-5 2026",
         "Mazda",
         "nuevo",
         "29490.0",
         "0.0",
         "https://neoauto.com/auto/nuevo/mazda-cx-5-2026-1705764"
        ],
        [
         "33",
         "Ford Bronco Sport 2025",
         "Ford",
         "nuevo",
         "49490.0",
         "0.0",
         "https://neoauto.com/auto/nuevo/ford-bronco-sport-2025-1706293"
        ],
        [
         "34",
         "Hyundai Creta 2026",
         "Hyundai",
         "nuevo",
         "24290.0",
         "0.0",
         "https://neoauto.com/auto/nuevo/hyundai-creta-2026-1702779"
        ],
        [
         "35",
         "Hyundai Tucson 2026",
         "Hyundai",
         "nuevo",
         "26090.0",
         "0.0",
         "https://neoauto.com/auto/nuevo/hyundai-tucson-2026-1702783"
        ],
        [
         "36",
         "Ford Territory 2026",
         "Ford",
         "nuevo",
         "25990.0",
         "0.0",
         "https://neoauto.com/auto/nuevo/ford-territory-2026-1726194"
        ],
        [
         "37",
         "Kia Sportage 2024",
         "Kia",
         "nuevo",
         "29990.0",
         "0.0",
         "https://neoauto.com/auto/nuevo/kia-sportage-2024-1846411"
        ],
        [
         "38",
         "Dfsk Glory 600 2024",
         "DFSK",
         "nuevo",
         "27990.0",
         "0.0",
         "https://neoauto.com/auto/nuevo/dfsk-glory-600-2024-1827087"
        ],
        [
         "39",
         "Hyundai Creta Grand 2025",
         "Hyundai",
         "nuevo",
         "29490.0",
         "0.0",
         "https://neoauto.com/auto/nuevo/hyundai-creta-grand-2025-1702781"
        ],
        [
         "40",
         "Honda Hr-V 2025",
         "Honda",
         "nuevo",
         "25990.0",
         "0.0",
         "https://neoauto.com/auto/nuevo/honda-hr-v-2025-1769746"
        ],
        [
         "41",
         "Nissan Kicks 2026",
         "Nissan",
         "nuevo",
         "19390.0",
         "0.0",
         "https://neoauto.com/auto/nuevo/nissan-kicks-2026-1709641"
        ],
        [
         "42",
         "Dfsk Glory 580 2025",
         "DFSK",
         "nuevo",
         "19290.0",
         "0.0",
         "https://neoauto.com/auto/nuevo/dfsk-glory-580-2025-1826170"
        ],
        [
         "43",
         "Kia Sportage 2025",
         "Kia",
         "nuevo",
         "30990.0",
         "0.0",
         "https://neoauto.com/auto/nuevo/kia-sportage-2025-1846407"
        ],
        [
         "44",
         "Kia Sportage 2025",
         "Kia",
         "nuevo",
         "30990.0",
         "0.0",
         "https://neoauto.com/auto/nuevo/kia-sportage-2025-1846416"
        ],
        [
         "45",
         "Renault Kardian 2025",
         "Renault",
         "nuevo",
         "20990.0",
         "0.0",
         "https://neoauto.com/auto/nuevo/renault-kardian-2025-1827079"
        ],
        [
         "46",
         "Hyundai Kona Hev 2025",
         "Hyundai",
         "nuevo",
         "25990.0",
         "0.0",
         "https://neoauto.com/auto/nuevo/hyundai-kona-hev-2025-1827057"
        ],
        [
         "47",
         "Dfsk Glory 560 2026",
         "DFSK",
         "nuevo",
         "16190.0",
         "0.0",
         "https://neoauto.com/auto/nuevo/dfsk-glory-560-2026-1827069"
        ],
        [
         "48",
         "Kia Sportage 2025",
         "Kia",
         "nuevo",
         "30990.0",
         "0.0",
         "https://neoauto.com/auto/nuevo/kia-sportage-2025-1846346"
        ],
        [
         "49",
         "Hyundai Santa Fe 2025",
         "Hyundai",
         "nuevo",
         "36990.0",
         "0.0",
         "https://neoauto.com/auto/nuevo/hyundai-santa-fe-2025-1702784"
        ]
       ],
       "shape": {
        "columns": 6,
        "rows": 9649
       }
      },
      "text/html": [
       "<div>\n",
       "<style scoped>\n",
       "    .dataframe tbody tr th:only-of-type {\n",
       "        vertical-align: middle;\n",
       "    }\n",
       "\n",
       "    .dataframe tbody tr th {\n",
       "        vertical-align: top;\n",
       "    }\n",
       "\n",
       "    .dataframe thead th {\n",
       "        text-align: right;\n",
       "    }\n",
       "</style>\n",
       "<table border=\"1\" class=\"dataframe\">\n",
       "  <thead>\n",
       "    <tr style=\"text-align: right;\">\n",
       "      <th></th>\n",
       "      <th>titulo</th>\n",
       "      <th>marca</th>\n",
       "      <th>tipo</th>\n",
       "      <th>precio</th>\n",
       "      <th>kilometraje_km</th>\n",
       "      <th>url_auto</th>\n",
       "    </tr>\n",
       "  </thead>\n",
       "  <tbody>\n",
       "    <tr>\n",
       "      <th>0</th>\n",
       "      <td>Hyundai Creta Grand 2025</td>\n",
       "      <td>Hyundai</td>\n",
       "      <td>nuevo</td>\n",
       "      <td>25490.0</td>\n",
       "      <td>NaN</td>\n",
       "      <td>https://neoauto.com/auto/nuevo/hyundai-creta-g...</td>\n",
       "    </tr>\n",
       "    <tr>\n",
       "      <th>1</th>\n",
       "      <td>Hyundai Creta Grand 2024</td>\n",
       "      <td>Hyundai</td>\n",
       "      <td>nuevo</td>\n",
       "      <td>25490.0</td>\n",
       "      <td>0.0</td>\n",
       "      <td>https://neoauto.com/auto/nuevo/hyundai-creta-g...</td>\n",
       "    </tr>\n",
       "    <tr>\n",
       "      <th>2</th>\n",
       "      <td>Hyundai Creta Grand 2025</td>\n",
       "      <td>Hyundai</td>\n",
       "      <td>nuevo</td>\n",
       "      <td>25490.0</td>\n",
       "      <td>0.0</td>\n",
       "      <td>https://neoauto.com/auto/nuevo/hyundai-creta-g...</td>\n",
       "    </tr>\n",
       "    <tr>\n",
       "      <th>3</th>\n",
       "      <td>Hyundai Creta Grand 2025</td>\n",
       "      <td>Hyundai</td>\n",
       "      <td>nuevo</td>\n",
       "      <td>25490.0</td>\n",
       "      <td>0.0</td>\n",
       "      <td>https://neoauto.com/auto/nuevo/hyundai-creta-g...</td>\n",
       "    </tr>\n",
       "    <tr>\n",
       "      <th>4</th>\n",
       "      <td>Hyundai Creta Grand 2025</td>\n",
       "      <td>Hyundai</td>\n",
       "      <td>nuevo</td>\n",
       "      <td>25490.0</td>\n",
       "      <td>NaN</td>\n",
       "      <td>https://neoauto.com/auto/nuevo/hyundai-creta-g...</td>\n",
       "    </tr>\n",
       "    <tr>\n",
       "      <th>...</th>\n",
       "      <td>...</td>\n",
       "      <td>...</td>\n",
       "      <td>...</td>\n",
       "      <td>...</td>\n",
       "      <td>...</td>\n",
       "      <td>...</td>\n",
       "    </tr>\n",
       "    <tr>\n",
       "      <th>9644</th>\n",
       "      <td>Peugeot Pickup Kp1 2017</td>\n",
       "      <td>Peugeot</td>\n",
       "      <td>usado</td>\n",
       "      <td>18700.0</td>\n",
       "      <td>84000.0</td>\n",
       "      <td>https://neoauto.com/auto/usado/peugeot-pickup-...</td>\n",
       "    </tr>\n",
       "    <tr>\n",
       "      <th>9645</th>\n",
       "      <td>Kia Rio 2023</td>\n",
       "      <td>Kia</td>\n",
       "      <td>usado</td>\n",
       "      <td>14400.0</td>\n",
       "      <td>35900.0</td>\n",
       "      <td>https://neoauto.com/auto/usado/kia-rio-2023-18...</td>\n",
       "    </tr>\n",
       "    <tr>\n",
       "      <th>9646</th>\n",
       "      <td>Ford Ranger 2019</td>\n",
       "      <td>Ford</td>\n",
       "      <td>usado</td>\n",
       "      <td>30000.0</td>\n",
       "      <td>55000.0</td>\n",
       "      <td>https://neoauto.com/auto/usado/ford-ranger-201...</td>\n",
       "    </tr>\n",
       "    <tr>\n",
       "      <th>9647</th>\n",
       "      <td>Honda Accord 2020</td>\n",
       "      <td>Honda</td>\n",
       "      <td>usado</td>\n",
       "      <td>8000.0</td>\n",
       "      <td>55.0</td>\n",
       "      <td>https://neoauto.com/auto/usado/honda-accord-20...</td>\n",
       "    </tr>\n",
       "    <tr>\n",
       "      <th>9648</th>\n",
       "      <td>Chevrolet Sail 2013</td>\n",
       "      <td>Chevrolet</td>\n",
       "      <td>usado</td>\n",
       "      <td>17000.0</td>\n",
       "      <td>140000.0</td>\n",
       "      <td>https://neoauto.com/auto/usado/chevrolet-sail-...</td>\n",
       "    </tr>\n",
       "  </tbody>\n",
       "</table>\n",
       "<p>9649 rows × 6 columns</p>\n",
       "</div>"
      ],
      "text/plain": [
       "                        titulo      marca   tipo   precio  kilometraje_km  \\\n",
       "0     Hyundai Creta Grand 2025    Hyundai  nuevo  25490.0             NaN   \n",
       "1     Hyundai Creta Grand 2024    Hyundai  nuevo  25490.0             0.0   \n",
       "2     Hyundai Creta Grand 2025    Hyundai  nuevo  25490.0             0.0   \n",
       "3     Hyundai Creta Grand 2025    Hyundai  nuevo  25490.0             0.0   \n",
       "4     Hyundai Creta Grand 2025    Hyundai  nuevo  25490.0             NaN   \n",
       "...                        ...        ...    ...      ...             ...   \n",
       "9644   Peugeot Pickup Kp1 2017    Peugeot  usado  18700.0         84000.0   \n",
       "9645              Kia Rio 2023        Kia  usado  14400.0         35900.0   \n",
       "9646          Ford Ranger 2019       Ford  usado  30000.0         55000.0   \n",
       "9647         Honda Accord 2020      Honda  usado   8000.0            55.0   \n",
       "9648       Chevrolet Sail 2013  Chevrolet  usado  17000.0        140000.0   \n",
       "\n",
       "                                               url_auto  \n",
       "0     https://neoauto.com/auto/nuevo/hyundai-creta-g...  \n",
       "1     https://neoauto.com/auto/nuevo/hyundai-creta-g...  \n",
       "2     https://neoauto.com/auto/nuevo/hyundai-creta-g...  \n",
       "3     https://neoauto.com/auto/nuevo/hyundai-creta-g...  \n",
       "4     https://neoauto.com/auto/nuevo/hyundai-creta-g...  \n",
       "...                                                 ...  \n",
       "9644  https://neoauto.com/auto/usado/peugeot-pickup-...  \n",
       "9645  https://neoauto.com/auto/usado/kia-rio-2023-18...  \n",
       "9646  https://neoauto.com/auto/usado/ford-ranger-201...  \n",
       "9647  https://neoauto.com/auto/usado/honda-accord-20...  \n",
       "9648  https://neoauto.com/auto/usado/chevrolet-sail-...  \n",
       "\n",
       "[9649 rows x 6 columns]"
      ]
     },
     "execution_count": 42,
     "metadata": {},
     "output_type": "execute_result"
    }
   ],
   "source": [
    "df_combinado[[\"titulo\", \"marca\", \"tipo\",\"precio\", \"kilometraje_km\", \"url_auto\"]]"
   ]
  },
  {
   "cell_type": "code",
   "execution_count": 46,
   "id": "02d0bc80",
   "metadata": {},
   "outputs": [
    {
     "data": {
      "text/plain": [
       "Index(['titulo', 'tipo', 'categoria', 'marca', 'modelo', 'año',\n",
       "       'kilometraje_km', 'precio', 'precio_etiqueta', 'tipo_transmision',\n",
       "       'caja', 'detalle', 'tags', 'ubicacion', 'url_auto'],\n",
       "      dtype='object')"
      ]
     },
     "execution_count": 46,
     "metadata": {},
     "output_type": "execute_result"
    }
   ],
   "source": [
    "df_combinado.columns"
   ]
  },
  {
   "cell_type": "code",
   "execution_count": 48,
   "id": "b3f675f3",
   "metadata": {},
   "outputs": [
    {
     "name": "stdout",
     "output_type": "stream",
     "text": [
      "<class 'pandas.core.frame.DataFrame'>\n",
      "RangeIndex: 9649 entries, 0 to 9648\n",
      "Data columns (total 15 columns):\n",
      " #   Column            Non-Null Count  Dtype  \n",
      "---  ------            --------------  -----  \n",
      " 0   titulo            9649 non-null   object \n",
      " 1   tipo              9649 non-null   object \n",
      " 2   categoria         5051 non-null   object \n",
      " 3   marca             9649 non-null   object \n",
      " 4   modelo            9649 non-null   object \n",
      " 5   año               9608 non-null   float64\n",
      " 6   kilometraje_km    9556 non-null   float64\n",
      " 7   precio            9643 non-null   float64\n",
      " 8   precio_etiqueta   9643 non-null   object \n",
      " 9   tipo_transmision  9649 non-null   object \n",
      " 10  caja              3898 non-null   object \n",
      " 11  detalle           9649 non-null   object \n",
      " 12  tags              6577 non-null   object \n",
      " 13  ubicacion         9649 non-null   object \n",
      " 14  url_auto          9649 non-null   object \n",
      "dtypes: float64(3), object(12)\n",
      "memory usage: 1.1+ MB\n"
     ]
    }
   ],
   "source": [
    "df_combinado.info()"
   ]
  },
  {
   "cell_type": "code",
   "execution_count": 49,
   "id": "ca1711c4",
   "metadata": {},
   "outputs": [],
   "source": [
    "labels_precio = [ \"menor a $5K\", \"$5K - $10K\", \"$10K - $20K\", \"$20K - $30K\", \"$30K - $40K\", \"$40K a más\"]\n",
    "\n",
    "df_combinado[\"precio_etiqueta\"] = pd.cut(\n",
    "    df_combinado[\"precio\"],\n",
    "    bins=[-1, 5000, 10000, 20000, 30000, 40000, float('inf')],\n",
    "    labels=labels_precio\n",
    "    )\n",
    "    "
   ]
  },
  {
   "cell_type": "code",
   "execution_count": 50,
   "id": "72b7a9b3",
   "metadata": {},
   "outputs": [
    {
     "data": {
      "application/vnd.microsoft.datawrangler.viewer.v0+json": {
       "columns": [
        {
         "name": "index",
         "rawType": "int64",
         "type": "integer"
        },
        {
         "name": "titulo",
         "rawType": "object",
         "type": "string"
        },
        {
         "name": "tipo",
         "rawType": "object",
         "type": "string"
        },
        {
         "name": "categoria",
         "rawType": "object",
         "type": "unknown"
        },
        {
         "name": "marca",
         "rawType": "object",
         "type": "string"
        },
        {
         "name": "modelo",
         "rawType": "object",
         "type": "string"
        },
        {
         "name": "año",
         "rawType": "float64",
         "type": "float"
        },
        {
         "name": "kilometraje_km",
         "rawType": "float64",
         "type": "float"
        },
        {
         "name": "precio",
         "rawType": "float64",
         "type": "float"
        },
        {
         "name": "precio_etiqueta",
         "rawType": "category",
         "type": "unknown"
        },
        {
         "name": "tipo_transmision",
         "rawType": "object",
         "type": "string"
        },
        {
         "name": "caja",
         "rawType": "object",
         "type": "unknown"
        },
        {
         "name": "detalle",
         "rawType": "object",
         "type": "string"
        },
        {
         "name": "tags",
         "rawType": "object",
         "type": "unknown"
        },
        {
         "name": "ubicacion",
         "rawType": "object",
         "type": "string"
        },
        {
         "name": "url_auto",
         "rawType": "object",
         "type": "string"
        }
       ],
       "ref": "783b8e8d-e304-497f-bace-fcc2d2628228",
       "rows": [
        [
         "506",
         "Gac Emkoo 2024",
         "seminuevos",
         "camionetas-suv",
         "Otra Marca",
         "Gac Emkoo",
         "2024.0",
         "9000.0",
         "17990.0",
         "$10K - $20K",
         "Automática",
         null,
         "Gasolina|Automática\nKilometraje:\n9,000 Kms\nLima, Lima",
         "COMO NUEVO",
         "Lima, Lima",
         "https://neoauto.com/auto/seminuevo/gac-emkoo-2024-1846577"
        ],
        [
         "607",
         "Gac Gs8 2023",
         "seminuevos",
         "camionetas-suv",
         "Otra Marca",
         "Gac Gs8",
         "2023.0",
         "16300.0",
         "28990.0",
         "$20K - $30K",
         "Automática",
         null,
         "Gasolina|Automática\nKilometraje:\n16,300 Kms\nLima, Lima\nMOTOR 2.0 TURBO",
         "SEMINUEVO",
         "Lima, Lima",
         "https://neoauto.com/auto/seminuevo/gac-gs8-2023-1836414"
        ],
        [
         "1154",
         "Gac Emkoo 2024",
         "usado",
         "camionetas-suv",
         "Otra Marca",
         "Gac Emkoo",
         "2024.0",
         "9000.0",
         "17990.0",
         "$10K - $20K",
         "Automática",
         null,
         "Gasolina|Automática\nKilometraje:\n9,000 Kms\nLima, Lima",
         "COMO NUEVO",
         "Lima, Lima",
         "https://neoauto.com/auto/seminuevo/gac-emkoo-2024-1846577"
        ],
        [
         "1255",
         "Gac Gs8 2023",
         "usado",
         "camionetas-suv",
         "Otra Marca",
         "Gac Gs8",
         "2023.0",
         "16300.0",
         "28990.0",
         "$20K - $30K",
         "Automática",
         null,
         "Gasolina|Automática\nKilometraje:\n16,300 Kms\nLima, Lima\nMOTOR 2.0 TURBO",
         "SEMINUEVO",
         "Lima, Lima",
         "https://neoauto.com/auto/seminuevo/gac-gs8-2023-1836414"
        ],
        [
         "1384",
         "Soueast Dx3 2019",
         "usado",
         "camionetas-suv",
         "Otra Marca",
         "Soueast Dx3",
         "2019.0",
         "49000.0",
         "11000.0",
         "$10K - $20K",
         "Automática",
         "Secuencial",
         "Gasolina|Automática - Secuencial\nKilometraje:\n49,000 Kms\nLima, Lima\nPapeles En Regla, Venta Inmediata.",
         null,
         "Lima, Lima",
         "https://neoauto.com/auto/usado/soueast-dx3-2019-1851313"
        ],
        [
         "1577",
         "Soueast Dx8 2024",
         "usado",
         "camionetas-suv",
         "Otra Marca",
         "Soueast Dx8",
         "2024.0",
         "22000.0",
         "13900.0",
         "$10K - $20K",
         "Automática",
         null,
         "Gasolina|Automática\nKilometraje:\n22,000 Kms\nLima, Lima\nCOMO NUEVO, UNICO DUEÑO, EN PERFECTO ESTADO, VERSION FULL",
         "COMO NUEVO",
         "Lima, Lima",
         "https://neoauto.com/auto/usado/soueast-dx8-2024-1851588"
        ],
        [
         "1968",
         "Gac Gs8 2023",
         "usado",
         "camionetas-suv",
         "Otra Marca",
         "Gac Gs8",
         "2023.0",
         "48000.0",
         "23000.0",
         "$20K - $30K",
         "Automática",
         null,
         "Gasolina|Automática\nKilometraje:\n48,000 Kms\nLima, Lima",
         null,
         "Lima, Lima",
         "https://neoauto.com/auto/usado/gac-gs8-2023-1849444"
        ],
        [
         "2341",
         "Gac Gs8 2023",
         "usado",
         "camionetas-suv",
         "Otra Marca",
         "Gac Gs8",
         "2023.0",
         "25000.0",
         "26000.0",
         "$20K - $30K",
         "Automática",
         "Secuencial",
         "Gasolina|Automática - Secuencial\nKilometraje:\n25,000 Kms\nLima, Lima",
         null,
         "Lima, Lima",
         "https://neoauto.com/auto/usado/gac-gs8-2023-1801642"
        ],
        [
         "2593",
         "Keyton Fj6450 2022",
         "usado",
         "camionetas-suv",
         "Otra Marca",
         "Keyton Fj6450",
         "2022.0",
         "24000.0",
         "30000.0",
         "$20K - $30K",
         "Mecánica",
         null,
         "Dual|Mecánica\nKilometraje:\n24,000 Kms\nLima, Lima",
         null,
         "Lima, Lima",
         "https://neoauto.com/auto/usado/keyton-fj6450-2022-1849801"
        ],
        [
         "2871",
         "Keyton Fj6450 2022",
         "usado",
         "camionetas-suv",
         "Otra Marca",
         "Keyton Fj6450",
         "2022.0",
         "3000.0",
         "35000.0",
         "$30K - $40K",
         "Mecánica",
         null,
         "Gasolina|Mecánica\nKilometraje:\n3,000 Kms\nLima, Lima",
         null,
         "Lima, Lima",
         "https://neoauto.com/auto/usado/keyton-fj6450-2022-1847757"
        ],
        [
         "2932",
         "Soueast Dx3 2022",
         "usado",
         "camionetas-suv",
         "Otra Marca",
         "Soueast Dx3",
         "2022.0",
         "9000.0",
         "42500.0",
         "$40K a más",
         "Mecánica",
         null,
         "Gasolina|Mecánica\nKilometraje:\n9,000 Kms\nLima, Lima",
         null,
         "Lima, Lima",
         "https://neoauto.com/auto/usado/soueast-dx3-2022-1851288"
        ],
        [
         "2986",
         "Soueast Dx3 2022",
         "usado",
         "camionetas-suv",
         "Otra Marca",
         "Soueast Dx3",
         "2022.0",
         "26000.0",
         "40000.0",
         "$30K - $40K",
         "Mecánica",
         null,
         "Dual|Mecánica\nKilometraje:\n26,000 Kms\nLima, Lima",
         null,
         "Lima, Lima",
         "https://neoauto.com/auto/usado/soueast-dx3-2022-1851458"
        ],
        [
         "3072",
         "Mc Laren Mp4-12c 2012",
         "seminuevos",
         "deportivo",
         "Otra Marca",
         "Mc Laren Mp4-12c",
         "2012.0",
         "22715.0",
         "114900.0",
         "$40K a más",
         "Automática",
         null,
         "Gasolina|Automática\nKilometraje:\n22,715 Kms\nLima, Lima\nSuper Auto - 616 HP - De Lujo",
         "MOTOR POTENTE",
         "Lima, Lima",
         "https://neoauto.com/auto/seminuevo/mc-laren-mp4-12c-2012-1837614"
        ],
        [
         "3075",
         "Lancia Beta 1985",
         "seminuevos",
         "deportivo",
         "Otra Marca",
         "Lancia Beta",
         "1985.0",
         "59075.0",
         "8500.0",
         "$5K - $10K",
         "Mecánica",
         null,
         "Gasolina|Mecánica\nKilometraje:\n59,075 Kms\nLima, Lima\nOcasión - Vehiculo Único - De Lujo",
         "OCASIÓN",
         "Lima, Lima",
         "https://neoauto.com/auto/seminuevo/lancia-beta-1985-1838729"
        ],
        [
         "3166",
         "Plymouth Valiant 1964",
         "usado",
         "deportivo",
         "Otra Marca",
         "Plymouth Valiant 1964",
         null,
         "56000.0",
         "8000.0",
         "$5K - $10K",
         "Automática",
         null,
         "Gasolina|Automática\nKilometraje:\n56,000 Kms\nLima, Lima",
         null,
         "Lima, Lima",
         "https://neoauto.com/auto/usado/plymouth-valiant-1964-1842158"
        ],
        [
         "3169",
         "Mc Laren Mp4-12c 2012",
         "usado",
         "deportivo",
         "Otra Marca",
         "Mc Laren Mp4-12c",
         "2012.0",
         "22715.0",
         "114900.0",
         "$40K a más",
         "Automática",
         null,
         "Gasolina|Automática\nKilometraje:\n22,715 Kms\nLima, Lima\nSuper Auto - 616 HP - De Lujo",
         "MOTOR POTENTE",
         "Lima, Lima",
         "https://neoauto.com/auto/seminuevo/mc-laren-mp4-12c-2012-1837614"
        ],
        [
         "3172",
         "Lancia Beta 1985",
         "usado",
         "deportivo",
         "Otra Marca",
         "Lancia Beta",
         "1985.0",
         "59075.0",
         "8500.0",
         "$5K - $10K",
         "Mecánica",
         null,
         "Gasolina|Mecánica\nKilometraje:\n59,075 Kms\nLima, Lima\nOcasión - Vehiculo Único - De Lujo",
         "OCASIÓN",
         "Lima, Lima",
         "https://neoauto.com/auto/seminuevo/lancia-beta-1985-1838729"
        ],
        [
         "3601",
         "Hafei Sigma 2009",
         "usado",
         "hatchback",
         "Otra Marca",
         "Hafei Sigma",
         "2009.0",
         "110000.0",
         "3900.0",
         "menor a $5K",
         "Mecánica",
         null,
         "Dual|Mecánica\nKilometraje:\n110,000 Kms\nLima, Lima",
         null,
         "Lima, Lima",
         "https://neoauto.com/auto/usado/hafei-sigma-2009-1849834"
        ],
        [
         "3923",
         "Datsun J-15 1990",
         "usado",
         "pick-up",
         "Otra Marca",
         "Datsun J-15",
         "1990.0",
         "50000.0",
         "13500.0",
         "$10K - $20K",
         "Mecánica",
         null,
         "Gas GLP|Mecánica\nKilometraje:\n50,000 Kms\nLima, Lima",
         null,
         "Lima, Lima",
         "https://neoauto.com/auto/usado/datsun-j-15-1990-1849550"
        ],
        [
         "4562",
         "Daewoo Cielo 1998",
         "usado",
         "sedan",
         "Otra Marca",
         "Daewoo Cielo",
         "1998.0",
         "300000.0",
         "4900.0",
         "menor a $5K",
         "Mecánica",
         null,
         "Gasolina|Mecánica\nKilometraje:\n300,000 Kms\nLima, Lima",
         null,
         "Lima, Lima",
         "https://neoauto.com/auto/usado/daewoo-cielo-1998-1842226"
        ],
        [
         "4673",
         "Datsun L510 1973",
         "usado",
         "sedan",
         "Otra Marca",
         "Datsun L510 1973",
         null,
         "100.0",
         "2000.0",
         "menor a $5K",
         "Mecánica",
         null,
         "Gasolina|Mecánica\nKilometraje:\n100 Kms\nArequipa, Arequipa",
         null,
         "Arequipa, Arequipa",
         "https://neoauto.com/auto/usado/datsun-l510-1973-1849941"
        ],
        [
         "4862",
         "Daewoo Leganza 2002",
         "usado",
         "sedan",
         "Otra Marca",
         "Daewoo Leganza",
         "2002.0",
         "130187.0",
         "2700.0",
         "menor a $5K",
         "Automática",
         null,
         "Gas GLP|Automática\nKilometraje:\n130,187 Kms\nLima, Lima",
         null,
         "Lima, Lima",
         "https://neoauto.com/auto/usado/daewoo-leganza-2002-1850031"
        ],
        [
         "4985",
         "Changhe Freedom - Panel 2017",
         "usado",
         "vans",
         "Otra Marca",
         "Changhe Freedom - Panel",
         "2017.0",
         "88277.0",
         "7000.0",
         "$5K - $10K",
         "Mecánica",
         null,
         "Gasolina|Mecánica\nKilometraje:\n88,277 Kms\nLima, Lima",
         null,
         "Lima, Lima",
         "https://neoauto.com/auto/usado/changhe-freedom-panel-2017-1846288"
        ],
        [
         "5013",
         "Shineray X30 2026",
         "usado",
         "vans",
         "Otra Marca",
         "Shineray X30",
         "2026.0",
         null,
         "9290.0",
         "$5K - $10K",
         "Mecánica",
         null,
         "Gasolina|Mecánica\nLima, Lima",
         null,
         "Lima, Lima",
         "https://neoauto.com/auto/usado/shineray-x30-2026-1850592"
        ],
        [
         "5024",
         "Otros Otros 2011",
         "usado",
         "vans",
         "Otra Marca",
         "Otros Otros",
         "2011.0",
         "45550.0",
         "1500.0",
         "menor a $5K",
         "Mecánica",
         null,
         "Gasolina|Mecánica\nKilometraje:\n45,550 Kms\nLima, Lima",
         null,
         "Lima, Lima",
         "https://neoauto.com/auto/usado/otros-otros-2011-1850188"
        ],
        [
         "5029",
         "Otros Otros 2008",
         "usado",
         "vans",
         "Otra Marca",
         "Otros Otros",
         "2008.0",
         "850000.0",
         "27000.0",
         "$20K - $30K",
         "Mecánica",
         null,
         "Diesel|Mecánica\nKilometraje:\n850,000 Kms\nLima, Lima",
         null,
         "Lima, Lima",
         "https://neoauto.com/auto/usado/otros-otros-2008-1847911"
        ],
        [
         "5041",
         "Otros Otros 2017",
         "usado",
         "vans",
         "Otra Marca",
         "Otros Otros",
         "2017.0",
         "7000.0",
         "69000.0",
         "$40K a más",
         "Mecánica",
         null,
         "Diesel|Mecánica\nKilometraje:\n7,000 Kms\nHuaral, Lima",
         null,
         "Huaral, Lima",
         "https://neoauto.com/auto/usado/otros-otros-2017-1849380"
        ],
        [
         "5043",
         "King Long Super Van 2020",
         "usado",
         "vans",
         "Otra Marca",
         "King Long Super Van",
         "2020.0",
         "10000.0",
         "18000.0",
         "$10K - $20K",
         "Mecánica",
         null,
         "Diesel|Mecánica\nKilometraje:\n10,000 Kms\nLima, Lima",
         null,
         "Lima, Lima",
         "https://neoauto.com/auto/usado/king-long-super-van-2020-1848940"
        ],
        [
         "5044",
         "Otros Otros 2017",
         "usado",
         "vans",
         "Otra Marca",
         "Otros Otros",
         "2017.0",
         "59000.0",
         "3000.0",
         "menor a $5K",
         "Automática",
         "Secuencial",
         "Gasolina|Automática - Secuencial\nKilometraje:\n59,000 Kms\nLima, Lima",
         null,
         "Lima, Lima",
         "https://neoauto.com/auto/usado/otros-otros-2017-1849406"
        ],
        [
         "5682",
         "Gac Gs8 2024",
         "seminuevos",
         null,
         "Otra Marca",
         "Gac Gs8",
         "2024.0",
         "18000.0",
         "28990.0",
         "$20K - $30K",
         "Automática",
         null,
         "Gasolina|Automática\nKilometraje:\n18,000 Kms\nLima, Lima",
         "SEMINUEVO",
         "Lima, Lima",
         "https://neoauto.com/auto/seminuevo/gac-gs8-2024-1847622"
        ],
        [
         "5702",
         "Gac Emkoo 2024",
         "seminuevos",
         null,
         "Otra Marca",
         "Gac Emkoo",
         "2024.0",
         "9000.0",
         "17990.0",
         "$10K - $20K",
         "Automática",
         null,
         "Gasolina|Automática\nKilometraje:\n9,000 Kms\nLima, Lima",
         "COMO NUEVO",
         "Lima, Lima",
         "https://neoauto.com/auto/seminuevo/gac-emkoo-2024-1846577"
        ],
        [
         "5723",
         "Gac Gs3 2023",
         "seminuevos",
         null,
         "Otra Marca",
         "Gac Gs3",
         "2023.0",
         "48.0",
         "11990.0",
         "$10K - $20K",
         "Mecánica",
         null,
         "Gasolina|Mecánica\nKilometraje:\n48 Kms\nLima, Lima",
         "COMO NUEVO",
         "Lima, Lima",
         "https://neoauto.com/auto/seminuevo/gac-gs3-2023-1845919"
        ],
        [
         "5771",
         "Gac Gs8 2023",
         "seminuevos",
         null,
         "Otra Marca",
         "Gac Gs8",
         "2023.0",
         "16300.0",
         "28990.0",
         "$20K - $30K",
         "Automática",
         null,
         "Gasolina|Automática\nKilometraje:\n16,300 Kms\nLima, Lima\nMOTOR 2.0 TURBO",
         "SEMINUEVO",
         "Lima, Lima",
         "https://neoauto.com/auto/seminuevo/gac-gs8-2023-1836414"
        ],
        [
         "5794",
         "Gac Gs8 2024",
         "seminuevos",
         null,
         "Otra Marca",
         "Gac Gs8",
         "2024.0",
         "6000.0",
         "32990.0",
         "$30K - $40K",
         "Automática",
         null,
         "Gasolina|Automática\nKilometraje:\n6,000 Kms\nLima, Lima",
         "COMO NUEVO",
         "Lima, Lima",
         "https://neoauto.com/auto/seminuevo/gac-gs8-2024-1847640"
        ],
        [
         "5816",
         "Gac Gs4 2023",
         "seminuevos",
         null,
         "Otra Marca",
         "Gac Gs4",
         "2023.0",
         "21000.0",
         "11990.0",
         "$10K - $20K",
         "Mecánica",
         null,
         "Gasolina|Mecánica\nKilometraje:\n21,000 Kms\nLima, Lima",
         "SEMINUEVO",
         "Lima, Lima",
         "https://neoauto.com/auto/seminuevo/gac-gs4-2023-1847500"
        ],
        [
         "5908",
         "Mc Laren Mp4-12c 2012",
         "seminuevos",
         null,
         "Otra Marca",
         "Mc Laren Mp4-12c",
         "2012.0",
         "22715.0",
         "114900.0",
         "$40K a más",
         "Automática",
         null,
         "Gasolina|Automática\nKilometraje:\n22,715 Kms\nLima, Lima\nSuper Auto - 616 HP - De Lujo",
         "MOTOR POTENTE",
         "Lima, Lima",
         "https://neoauto.com/auto/seminuevo/mc-laren-mp4-12c-2012-1837614"
        ],
        [
         "6019",
         "Lancia Beta 1985",
         "seminuevos",
         null,
         "Otra Marca",
         "Lancia Beta",
         "1985.0",
         "59075.0",
         "8500.0",
         "$5K - $10K",
         "Mecánica",
         null,
         "Gasolina|Mecánica\nKilometraje:\n59,075 Kms\nLima, Lima\nOcasión - Vehiculo Único - De Lujo",
         "OCASIÓN",
         "Lima, Lima",
         "https://neoauto.com/auto/seminuevo/lancia-beta-1985-1838729"
        ],
        [
         "6542",
         "Gac Gs8 2024",
         "usado",
         null,
         "Otra Marca",
         "Gac Gs8",
         "2024.0",
         "18000.0",
         "28990.0",
         "$20K - $30K",
         "Automática",
         null,
         "Gasolina|Automática\nKilometraje:\n18,000 Kms\nLima, Lima",
         "SEMINUEVO",
         "Lima, Lima",
         "https://neoauto.com/auto/seminuevo/gac-gs8-2024-1847622"
        ],
        [
         "6562",
         "Gac Emkoo 2024",
         "usado",
         null,
         "Otra Marca",
         "Gac Emkoo",
         "2024.0",
         "9000.0",
         "17990.0",
         "$10K - $20K",
         "Automática",
         null,
         "Gasolina|Automática\nKilometraje:\n9,000 Kms\nLima, Lima",
         "COMO NUEVO",
         "Lima, Lima",
         "https://neoauto.com/auto/seminuevo/gac-emkoo-2024-1846577"
        ],
        [
         "6583",
         "Gac Gs3 2023",
         "usado",
         null,
         "Otra Marca",
         "Gac Gs3",
         "2023.0",
         "48.0",
         "11990.0",
         "$10K - $20K",
         "Mecánica",
         null,
         "Gasolina|Mecánica\nKilometraje:\n48 Kms\nLima, Lima",
         "COMO NUEVO",
         "Lima, Lima",
         "https://neoauto.com/auto/seminuevo/gac-gs3-2023-1845919"
        ],
        [
         "6631",
         "Gac Gs8 2023",
         "usado",
         null,
         "Otra Marca",
         "Gac Gs8",
         "2023.0",
         "16300.0",
         "28990.0",
         "$20K - $30K",
         "Automática",
         null,
         "Gasolina|Automática\nKilometraje:\n16,300 Kms\nLima, Lima\nMOTOR 2.0 TURBO",
         "SEMINUEVO",
         "Lima, Lima",
         "https://neoauto.com/auto/seminuevo/gac-gs8-2023-1836414"
        ],
        [
         "6654",
         "Gac Gs8 2024",
         "usado",
         null,
         "Otra Marca",
         "Gac Gs8",
         "2024.0",
         "6000.0",
         "32990.0",
         "$30K - $40K",
         "Automática",
         null,
         "Gasolina|Automática\nKilometraje:\n6,000 Kms\nLima, Lima",
         "COMO NUEVO",
         "Lima, Lima",
         "https://neoauto.com/auto/seminuevo/gac-gs8-2024-1847640"
        ],
        [
         "6676",
         "Gac Gs4 2023",
         "usado",
         null,
         "Otra Marca",
         "Gac Gs4",
         "2023.0",
         "21000.0",
         "11990.0",
         "$10K - $20K",
         "Mecánica",
         null,
         "Gasolina|Mecánica\nKilometraje:\n21,000 Kms\nLima, Lima",
         "SEMINUEVO",
         "Lima, Lima",
         "https://neoauto.com/auto/seminuevo/gac-gs4-2023-1847500"
        ],
        [
         "6826",
         "Soueast Dx3 2023",
         "usado",
         null,
         "Otra Marca",
         "Soueast Dx3",
         "2023.0",
         "22000.0",
         "11500.0",
         "$10K - $20K",
         "Mecánica",
         null,
         "Gasolina|Mecánica\nKilometraje:\n22,000 Kms\nLima, Lima\nComodidad Para Tu Familia, Vendo Por Renovación",
         "[]",
         "Lima, Lima",
         "https://neoauto.com/auto/usado/soueast-dx3-2023-1846744"
        ],
        [
         "7846",
         "Plymouth Valiant 1964",
         "usado",
         null,
         "Otra Marca",
         "Plymouth Valiant 1964",
         null,
         "56000.0",
         "8000.0",
         "$5K - $10K",
         "Automática",
         null,
         "Gasolina|Automática\nKilometraje:\n56,000 Kms\nLima, Lima",
         "[]",
         "Lima, Lima",
         "https://neoauto.com/auto/usado/plymouth-valiant-1964-1842158"
        ],
        [
         "7888",
         "Mc Laren Mp4-12c 2012",
         "usado",
         null,
         "Otra Marca",
         "Mc Laren Mp4-12c",
         "2012.0",
         "22715.0",
         "114900.0",
         "$40K a más",
         "Automática",
         null,
         "Gasolina|Automática\nKilometraje:\n22,715 Kms\nLima, Lima\nSuper Auto - 616 HP - De Lujo",
         "MOTOR POTENTE",
         "Lima, Lima",
         "https://neoauto.com/auto/seminuevo/mc-laren-mp4-12c-2012-1837614"
        ],
        [
         "7999",
         "Lancia Beta 1985",
         "usado",
         null,
         "Otra Marca",
         "Lancia Beta",
         "1985.0",
         "59075.0",
         "8500.0",
         "$5K - $10K",
         "Mecánica",
         null,
         "Gasolina|Mecánica\nKilometraje:\n59,075 Kms\nLima, Lima\nOcasión - Vehiculo Único - De Lujo",
         "OCASIÓN",
         "Lima, Lima",
         "https://neoauto.com/auto/seminuevo/lancia-beta-1985-1838729"
        ],
        [
         "8035",
         "Changhe Freedom - Panel 2017",
         "usado",
         null,
         "Otra Marca",
         "Changhe Freedom - Panel",
         "2017.0",
         "88277.0",
         "7000.0",
         "$5K - $10K",
         "Mecánica",
         null,
         "Gasolina|Mecánica\nKilometraje:\n88,277 Kms\nLima, Lima",
         "[]",
         "Lima, Lima",
         "https://neoauto.com/auto/usado/changhe-freedom-panel-2017-1846288"
        ],
        [
         "8235",
         "Otros Otros 2024",
         "usado",
         null,
         "Otra Marca",
         "Otros Otros",
         "2024.0",
         "58000.0",
         "58000.0",
         "$40K a más",
         "Mecánica",
         null,
         "Diesel|Mecánica\nKilometraje:\n58,000 Kms\nChiclayo, Lambayeque",
         "[]",
         "Chiclayo, Lambayeque",
         "https://neoauto.com/auto/usado/otros-otros-2024-1844286"
        ],
        [
         "8373",
         "Gac Gs8 2023",
         "usado",
         null,
         "Otra Marca",
         "Gac Gs8",
         "2023.0",
         "25000.0",
         "26000.0",
         "$20K - $30K",
         "Automática",
         "Secuencial",
         "Gasolina|Automática - Secuencial\nKilometraje:\n25,000 Kms\nLima, Lima",
         "[]",
         "Lima, Lima",
         "https://neoauto.com/auto/usado/gac-gs8-2023-1801642"
        ]
       ],
       "shape": {
        "columns": 15,
        "rows": 64
       }
      },
      "text/html": [
       "<div>\n",
       "<style scoped>\n",
       "    .dataframe tbody tr th:only-of-type {\n",
       "        vertical-align: middle;\n",
       "    }\n",
       "\n",
       "    .dataframe tbody tr th {\n",
       "        vertical-align: top;\n",
       "    }\n",
       "\n",
       "    .dataframe thead th {\n",
       "        text-align: right;\n",
       "    }\n",
       "</style>\n",
       "<table border=\"1\" class=\"dataframe\">\n",
       "  <thead>\n",
       "    <tr style=\"text-align: right;\">\n",
       "      <th></th>\n",
       "      <th>titulo</th>\n",
       "      <th>tipo</th>\n",
       "      <th>categoria</th>\n",
       "      <th>marca</th>\n",
       "      <th>modelo</th>\n",
       "      <th>año</th>\n",
       "      <th>kilometraje_km</th>\n",
       "      <th>precio</th>\n",
       "      <th>precio_etiqueta</th>\n",
       "      <th>tipo_transmision</th>\n",
       "      <th>caja</th>\n",
       "      <th>detalle</th>\n",
       "      <th>tags</th>\n",
       "      <th>ubicacion</th>\n",
       "      <th>url_auto</th>\n",
       "    </tr>\n",
       "  </thead>\n",
       "  <tbody>\n",
       "    <tr>\n",
       "      <th>506</th>\n",
       "      <td>Gac Emkoo 2024</td>\n",
       "      <td>seminuevos</td>\n",
       "      <td>camionetas-suv</td>\n",
       "      <td>Otra Marca</td>\n",
       "      <td>Gac Emkoo</td>\n",
       "      <td>2024.0</td>\n",
       "      <td>9000.0</td>\n",
       "      <td>17990.0</td>\n",
       "      <td>$10K - $20K</td>\n",
       "      <td>Automática</td>\n",
       "      <td>NaN</td>\n",
       "      <td>Gasolina|Automática\\nKilometraje:\\n9,000 Kms\\n...</td>\n",
       "      <td>COMO NUEVO</td>\n",
       "      <td>Lima, Lima</td>\n",
       "      <td>https://neoauto.com/auto/seminuevo/gac-emkoo-2...</td>\n",
       "    </tr>\n",
       "    <tr>\n",
       "      <th>607</th>\n",
       "      <td>Gac Gs8 2023</td>\n",
       "      <td>seminuevos</td>\n",
       "      <td>camionetas-suv</td>\n",
       "      <td>Otra Marca</td>\n",
       "      <td>Gac Gs8</td>\n",
       "      <td>2023.0</td>\n",
       "      <td>16300.0</td>\n",
       "      <td>28990.0</td>\n",
       "      <td>$20K - $30K</td>\n",
       "      <td>Automática</td>\n",
       "      <td>NaN</td>\n",
       "      <td>Gasolina|Automática\\nKilometraje:\\n16,300 Kms\\...</td>\n",
       "      <td>SEMINUEVO</td>\n",
       "      <td>Lima, Lima</td>\n",
       "      <td>https://neoauto.com/auto/seminuevo/gac-gs8-202...</td>\n",
       "    </tr>\n",
       "    <tr>\n",
       "      <th>1154</th>\n",
       "      <td>Gac Emkoo 2024</td>\n",
       "      <td>usado</td>\n",
       "      <td>camionetas-suv</td>\n",
       "      <td>Otra Marca</td>\n",
       "      <td>Gac Emkoo</td>\n",
       "      <td>2024.0</td>\n",
       "      <td>9000.0</td>\n",
       "      <td>17990.0</td>\n",
       "      <td>$10K - $20K</td>\n",
       "      <td>Automática</td>\n",
       "      <td>NaN</td>\n",
       "      <td>Gasolina|Automática\\nKilometraje:\\n9,000 Kms\\n...</td>\n",
       "      <td>COMO NUEVO</td>\n",
       "      <td>Lima, Lima</td>\n",
       "      <td>https://neoauto.com/auto/seminuevo/gac-emkoo-2...</td>\n",
       "    </tr>\n",
       "    <tr>\n",
       "      <th>1255</th>\n",
       "      <td>Gac Gs8 2023</td>\n",
       "      <td>usado</td>\n",
       "      <td>camionetas-suv</td>\n",
       "      <td>Otra Marca</td>\n",
       "      <td>Gac Gs8</td>\n",
       "      <td>2023.0</td>\n",
       "      <td>16300.0</td>\n",
       "      <td>28990.0</td>\n",
       "      <td>$20K - $30K</td>\n",
       "      <td>Automática</td>\n",
       "      <td>NaN</td>\n",
       "      <td>Gasolina|Automática\\nKilometraje:\\n16,300 Kms\\...</td>\n",
       "      <td>SEMINUEVO</td>\n",
       "      <td>Lima, Lima</td>\n",
       "      <td>https://neoauto.com/auto/seminuevo/gac-gs8-202...</td>\n",
       "    </tr>\n",
       "    <tr>\n",
       "      <th>1384</th>\n",
       "      <td>Soueast Dx3 2019</td>\n",
       "      <td>usado</td>\n",
       "      <td>camionetas-suv</td>\n",
       "      <td>Otra Marca</td>\n",
       "      <td>Soueast Dx3</td>\n",
       "      <td>2019.0</td>\n",
       "      <td>49000.0</td>\n",
       "      <td>11000.0</td>\n",
       "      <td>$10K - $20K</td>\n",
       "      <td>Automática</td>\n",
       "      <td>Secuencial</td>\n",
       "      <td>Gasolina|Automática - Secuencial\\nKilometraje:...</td>\n",
       "      <td>NaN</td>\n",
       "      <td>Lima, Lima</td>\n",
       "      <td>https://neoauto.com/auto/usado/soueast-dx3-201...</td>\n",
       "    </tr>\n",
       "    <tr>\n",
       "      <th>...</th>\n",
       "      <td>...</td>\n",
       "      <td>...</td>\n",
       "      <td>...</td>\n",
       "      <td>...</td>\n",
       "      <td>...</td>\n",
       "      <td>...</td>\n",
       "      <td>...</td>\n",
       "      <td>...</td>\n",
       "      <td>...</td>\n",
       "      <td>...</td>\n",
       "      <td>...</td>\n",
       "      <td>...</td>\n",
       "      <td>...</td>\n",
       "      <td>...</td>\n",
       "      <td>...</td>\n",
       "    </tr>\n",
       "    <tr>\n",
       "      <th>9353</th>\n",
       "      <td>King Long Xmq 6181g 2013</td>\n",
       "      <td>usado</td>\n",
       "      <td>NaN</td>\n",
       "      <td>Otra Marca</td>\n",
       "      <td>King Long Xmq 6181g</td>\n",
       "      <td>2013.0</td>\n",
       "      <td>300000.0</td>\n",
       "      <td>40000.0</td>\n",
       "      <td>$30K - $40K</td>\n",
       "      <td>Mecánica</td>\n",
       "      <td>NaN</td>\n",
       "      <td>Diesel|Mecánica\\nKilometraje:\\n300,000 Kms\\nLi...</td>\n",
       "      <td>[]</td>\n",
       "      <td>Lima, Lima</td>\n",
       "      <td>https://neoauto.com/auto/usado/king-long-xmq-6...</td>\n",
       "    </tr>\n",
       "    <tr>\n",
       "      <th>9450</th>\n",
       "      <td>Jinbei H2l 2017</td>\n",
       "      <td>usado</td>\n",
       "      <td>NaN</td>\n",
       "      <td>Otra Marca</td>\n",
       "      <td>Jinbei H2l</td>\n",
       "      <td>2017.0</td>\n",
       "      <td>380.0</td>\n",
       "      <td>65000.0</td>\n",
       "      <td>$40K a más</td>\n",
       "      <td>Mecánica</td>\n",
       "      <td>NaN</td>\n",
       "      <td>Diesel|Mecánica\\nKilometraje:\\n380 Kms\\nPisco,...</td>\n",
       "      <td>[]</td>\n",
       "      <td>Pisco, Ica</td>\n",
       "      <td>https://neoauto.com/auto/usado/jinbei-h2l-2017...</td>\n",
       "    </tr>\n",
       "    <tr>\n",
       "      <th>9451</th>\n",
       "      <td>Otros Otros 2012</td>\n",
       "      <td>usado</td>\n",
       "      <td>NaN</td>\n",
       "      <td>Otra Marca</td>\n",
       "      <td>Otros Otros</td>\n",
       "      <td>2012.0</td>\n",
       "      <td>NaN</td>\n",
       "      <td>12000.0</td>\n",
       "      <td>$10K - $20K</td>\n",
       "      <td>Mecánica</td>\n",
       "      <td>NaN</td>\n",
       "      <td>Diesel|Mecánica\\nTrujillo, La Libertad</td>\n",
       "      <td>[]</td>\n",
       "      <td>Trujillo, La Libertad</td>\n",
       "      <td>https://neoauto.com/auto/usado/otros-otros-201...</td>\n",
       "    </tr>\n",
       "    <tr>\n",
       "      <th>9548</th>\n",
       "      <td>Otros Otros 2020</td>\n",
       "      <td>usado</td>\n",
       "      <td>NaN</td>\n",
       "      <td>Otra Marca</td>\n",
       "      <td>Otros Otros</td>\n",
       "      <td>2020.0</td>\n",
       "      <td>NaN</td>\n",
       "      <td>1500.0</td>\n",
       "      <td>menor a $5K</td>\n",
       "      <td>Mecánica</td>\n",
       "      <td>NaN</td>\n",
       "      <td>Gasolina|Mecánica\\nLima, Lima</td>\n",
       "      <td>[]</td>\n",
       "      <td>Lima, Lima</td>\n",
       "      <td>https://neoauto.com/auto/usado/otros-otros-202...</td>\n",
       "    </tr>\n",
       "    <tr>\n",
       "      <th>9606</th>\n",
       "      <td>Otros Otros 2011</td>\n",
       "      <td>usado</td>\n",
       "      <td>NaN</td>\n",
       "      <td>Otra Marca</td>\n",
       "      <td>Otros Otros</td>\n",
       "      <td>2011.0</td>\n",
       "      <td>1111111.0</td>\n",
       "      <td>9050.0</td>\n",
       "      <td>$5K - $10K</td>\n",
       "      <td>Mecánica</td>\n",
       "      <td>NaN</td>\n",
       "      <td>Diesel|Mecánica\\nKilometraje:\\n1,111,111 Kms\\n...</td>\n",
       "      <td>[]</td>\n",
       "      <td>Lima, Lima</td>\n",
       "      <td>https://neoauto.com/auto/usado/otros-otros-201...</td>\n",
       "    </tr>\n",
       "  </tbody>\n",
       "</table>\n",
       "<p>64 rows × 15 columns</p>\n",
       "</div>"
      ],
      "text/plain": [
       "                        titulo        tipo       categoria       marca  \\\n",
       "506             Gac Emkoo 2024  seminuevos  camionetas-suv  Otra Marca   \n",
       "607               Gac Gs8 2023  seminuevos  camionetas-suv  Otra Marca   \n",
       "1154            Gac Emkoo 2024       usado  camionetas-suv  Otra Marca   \n",
       "1255              Gac Gs8 2023       usado  camionetas-suv  Otra Marca   \n",
       "1384          Soueast Dx3 2019       usado  camionetas-suv  Otra Marca   \n",
       "...                        ...         ...             ...         ...   \n",
       "9353  King Long Xmq 6181g 2013       usado             NaN  Otra Marca   \n",
       "9450           Jinbei H2l 2017       usado             NaN  Otra Marca   \n",
       "9451          Otros Otros 2012       usado             NaN  Otra Marca   \n",
       "9548          Otros Otros 2020       usado             NaN  Otra Marca   \n",
       "9606          Otros Otros 2011       usado             NaN  Otra Marca   \n",
       "\n",
       "                   modelo     año  kilometraje_km   precio precio_etiqueta  \\\n",
       "506             Gac Emkoo  2024.0          9000.0  17990.0     $10K - $20K   \n",
       "607               Gac Gs8  2023.0         16300.0  28990.0     $20K - $30K   \n",
       "1154            Gac Emkoo  2024.0          9000.0  17990.0     $10K - $20K   \n",
       "1255              Gac Gs8  2023.0         16300.0  28990.0     $20K - $30K   \n",
       "1384          Soueast Dx3  2019.0         49000.0  11000.0     $10K - $20K   \n",
       "...                   ...     ...             ...      ...             ...   \n",
       "9353  King Long Xmq 6181g  2013.0        300000.0  40000.0     $30K - $40K   \n",
       "9450           Jinbei H2l  2017.0           380.0  65000.0      $40K a más   \n",
       "9451          Otros Otros  2012.0             NaN  12000.0     $10K - $20K   \n",
       "9548          Otros Otros  2020.0             NaN   1500.0     menor a $5K   \n",
       "9606          Otros Otros  2011.0       1111111.0   9050.0      $5K - $10K   \n",
       "\n",
       "     tipo_transmision        caja  \\\n",
       "506        Automática         NaN   \n",
       "607        Automática         NaN   \n",
       "1154       Automática         NaN   \n",
       "1255       Automática         NaN   \n",
       "1384       Automática  Secuencial   \n",
       "...               ...         ...   \n",
       "9353         Mecánica         NaN   \n",
       "9450         Mecánica         NaN   \n",
       "9451         Mecánica         NaN   \n",
       "9548         Mecánica         NaN   \n",
       "9606         Mecánica         NaN   \n",
       "\n",
       "                                                detalle        tags  \\\n",
       "506   Gasolina|Automática\\nKilometraje:\\n9,000 Kms\\n...  COMO NUEVO   \n",
       "607   Gasolina|Automática\\nKilometraje:\\n16,300 Kms\\...   SEMINUEVO   \n",
       "1154  Gasolina|Automática\\nKilometraje:\\n9,000 Kms\\n...  COMO NUEVO   \n",
       "1255  Gasolina|Automática\\nKilometraje:\\n16,300 Kms\\...   SEMINUEVO   \n",
       "1384  Gasolina|Automática - Secuencial\\nKilometraje:...         NaN   \n",
       "...                                                 ...         ...   \n",
       "9353  Diesel|Mecánica\\nKilometraje:\\n300,000 Kms\\nLi...          []   \n",
       "9450  Diesel|Mecánica\\nKilometraje:\\n380 Kms\\nPisco,...          []   \n",
       "9451             Diesel|Mecánica\\nTrujillo, La Libertad          []   \n",
       "9548                      Gasolina|Mecánica\\nLima, Lima          []   \n",
       "9606  Diesel|Mecánica\\nKilometraje:\\n1,111,111 Kms\\n...          []   \n",
       "\n",
       "                  ubicacion                                           url_auto  \n",
       "506              Lima, Lima  https://neoauto.com/auto/seminuevo/gac-emkoo-2...  \n",
       "607              Lima, Lima  https://neoauto.com/auto/seminuevo/gac-gs8-202...  \n",
       "1154             Lima, Lima  https://neoauto.com/auto/seminuevo/gac-emkoo-2...  \n",
       "1255             Lima, Lima  https://neoauto.com/auto/seminuevo/gac-gs8-202...  \n",
       "1384             Lima, Lima  https://neoauto.com/auto/usado/soueast-dx3-201...  \n",
       "...                     ...                                                ...  \n",
       "9353             Lima, Lima  https://neoauto.com/auto/usado/king-long-xmq-6...  \n",
       "9450             Pisco, Ica  https://neoauto.com/auto/usado/jinbei-h2l-2017...  \n",
       "9451  Trujillo, La Libertad  https://neoauto.com/auto/usado/otros-otros-201...  \n",
       "9548             Lima, Lima  https://neoauto.com/auto/usado/otros-otros-202...  \n",
       "9606             Lima, Lima  https://neoauto.com/auto/usado/otros-otros-201...  \n",
       "\n",
       "[64 rows x 15 columns]"
      ]
     },
     "execution_count": 50,
     "metadata": {},
     "output_type": "execute_result"
    }
   ],
   "source": [
    "df_combinado[df_combinado[\"marca\"]==\"Otra Marca\"].head(100)"
   ]
  },
  {
   "cell_type": "code",
   "execution_count": 52,
   "id": "eee7f37f",
   "metadata": {},
   "outputs": [
    {
     "name": "stderr",
     "output_type": "stream",
     "text": [
      "C:\\Users\\PC\\AppData\\Local\\Temp\\ipykernel_7784\\3685814155.py:7: FutureWarning: A value is trying to be set on a copy of a DataFrame or Series through chained assignment using an inplace method.\n",
      "The behavior will change in pandas 3.0. This inplace method will never work because the intermediate object on which we are setting values always behaves as a copy.\n",
      "\n",
      "For example, when doing 'df[col].method(value, inplace=True)', try using 'df.method({col: value}, inplace=True)' or df[col] = df[col].method(value) instead, to perform the operation inplace on the original object.\n",
      "\n",
      "\n",
      "  data_final[\"tipo\"].replace({\"nuevos\":\"nuevo\", \"seminuevo\":\"seminuevo\"}, inplace=True)\n",
      "C:\\Users\\PC\\AppData\\Local\\Temp\\ipykernel_7784\\3685814155.py:7: SettingWithCopyWarning: \n",
      "A value is trying to be set on a copy of a slice from a DataFrame\n",
      "\n",
      "See the caveats in the documentation: https://pandas.pydata.org/pandas-docs/stable/user_guide/indexing.html#returning-a-view-versus-a-copy\n",
      "  data_final[\"tipo\"].replace({\"nuevos\":\"nuevo\", \"seminuevo\":\"seminuevo\"}, inplace=True)\n"
     ]
    }
   ],
   "source": [
    "cols_obj = [\"titulo\", \"tipo\", \"marca\", \"modelo\", \"año\", \"kilometraje_km\",\n",
    "            \"precio\", \"precio_etiqueta\", \"tipo_transmision\", \"caja\",\"detalle\",\n",
    "            \"tags\",\"ubicacion\", \"url_auto\"]\n",
    "\n",
    "data_final = df_combinado[cols_obj]\n",
    "\n",
    "data_final[\"tipo\"].replace({\"nuevos\":\"nuevo\", \"seminuevo\":\"seminuevo\"}, inplace=True)"
   ]
  },
  {
   "cell_type": "code",
   "execution_count": 55,
   "id": "94099658",
   "metadata": {},
   "outputs": [
    {
     "data": {
      "application/vnd.microsoft.datawrangler.viewer.v0+json": {
       "columns": [
        {
         "name": "año",
         "rawType": "float64",
         "type": "float"
        },
        {
         "name": "count",
         "rawType": "int64",
         "type": "integer"
        }
       ],
       "ref": "6e225f03-cc26-4ce7-8115-d559ce411eb0",
       "rows": [
        [
         "1980.0",
         "2"
        ],
        [
         "1981.0",
         "17"
        ],
        [
         "1982.0",
         "6"
        ],
        [
         "1983.0",
         "8"
        ],
        [
         "1984.0",
         "1"
        ],
        [
         "1985.0",
         "10"
        ],
        [
         "1987.0",
         "4"
        ],
        [
         "1988.0",
         "2"
        ],
        [
         "1989.0",
         "1"
        ],
        [
         "1990.0",
         "3"
        ],
        [
         "1991.0",
         "8"
        ],
        [
         "1992.0",
         "9"
        ],
        [
         "1993.0",
         "5"
        ],
        [
         "1994.0",
         "3"
        ],
        [
         "1995.0",
         "4"
        ],
        [
         "1996.0",
         "11"
        ],
        [
         "1997.0",
         "24"
        ],
        [
         "1998.0",
         "19"
        ],
        [
         "1999.0",
         "6"
        ],
        [
         "2000.0",
         "5"
        ],
        [
         "2001.0",
         "7"
        ],
        [
         "2002.0",
         "10"
        ],
        [
         "2003.0",
         "12"
        ],
        [
         "2004.0",
         "22"
        ],
        [
         "2005.0",
         "29"
        ],
        [
         "2006.0",
         "23"
        ],
        [
         "2007.0",
         "36"
        ],
        [
         "2008.0",
         "58"
        ],
        [
         "2009.0",
         "102"
        ],
        [
         "2010.0",
         "111"
        ],
        [
         "2011.0",
         "168"
        ],
        [
         "2012.0",
         "279"
        ],
        [
         "2013.0",
         "317"
        ],
        [
         "2014.0",
         "327"
        ],
        [
         "2015.0",
         "453"
        ],
        [
         "2016.0",
         "440"
        ],
        [
         "2017.0",
         "611"
        ],
        [
         "2018.0",
         "817"
        ],
        [
         "2019.0",
         "703"
        ],
        [
         "2020.0",
         "710"
        ],
        [
         "2021.0",
         "540"
        ],
        [
         "2022.0",
         "853"
        ],
        [
         "2023.0",
         "1202"
        ],
        [
         "2024.0",
         "970"
        ],
        [
         "2025.0",
         "567"
        ],
        [
         "2026.0",
         "93"
        ]
       ],
       "shape": {
        "columns": 1,
        "rows": 46
       }
      },
      "text/plain": [
       "año\n",
       "1980.0       2\n",
       "1981.0      17\n",
       "1982.0       6\n",
       "1983.0       8\n",
       "1984.0       1\n",
       "1985.0      10\n",
       "1987.0       4\n",
       "1988.0       2\n",
       "1989.0       1\n",
       "1990.0       3\n",
       "1991.0       8\n",
       "1992.0       9\n",
       "1993.0       5\n",
       "1994.0       3\n",
       "1995.0       4\n",
       "1996.0      11\n",
       "1997.0      24\n",
       "1998.0      19\n",
       "1999.0       6\n",
       "2000.0       5\n",
       "2001.0       7\n",
       "2002.0      10\n",
       "2003.0      12\n",
       "2004.0      22\n",
       "2005.0      29\n",
       "2006.0      23\n",
       "2007.0      36\n",
       "2008.0      58\n",
       "2009.0     102\n",
       "2010.0     111\n",
       "2011.0     168\n",
       "2012.0     279\n",
       "2013.0     317\n",
       "2014.0     327\n",
       "2015.0     453\n",
       "2016.0     440\n",
       "2017.0     611\n",
       "2018.0     817\n",
       "2019.0     703\n",
       "2020.0     710\n",
       "2021.0     540\n",
       "2022.0     853\n",
       "2023.0    1202\n",
       "2024.0     970\n",
       "2025.0     567\n",
       "2026.0      93\n",
       "Name: count, dtype: int64"
      ]
     },
     "execution_count": 55,
     "metadata": {},
     "output_type": "execute_result"
    }
   ],
   "source": [
    "data_final[\"año\"].value_counts().sort_index()"
   ]
  },
  {
   "cell_type": "code",
   "execution_count": 54,
   "id": "91688fd2",
   "metadata": {},
   "outputs": [],
   "source": [
    "data_final.to_csv(\"neo_autos.csv\", index=False, sep=\"|\", encoding=\"utf-8-sig\")\n",
    "data_final.to_excel(\"neo_autos.xlsx\", index=False)"
   ]
  },
  {
   "cell_type": "code",
   "execution_count": 57,
   "id": "13678de2",
   "metadata": {},
   "outputs": [
    {
     "name": "stdout",
     "output_type": "stream",
     "text": [
      "Archivos CSV encontrados (10):\n",
      "- C:\\Users\\PC\\Desktop\\Proyectos\\Proyectos_Py\\7.Analisis_Autos\\vehiculos\\data\\categoria/neo_autos_autos_camionetas-suv_nuevos.csv\n",
      "- C:\\Users\\PC\\Desktop\\Proyectos\\Proyectos_Py\\7.Analisis_Autos\\vehiculos\\data\\categoria/neo_autos_autos_camionetas-suv_seminuevos.csv\n",
      "- C:\\Users\\PC\\Desktop\\Proyectos\\Proyectos_Py\\7.Analisis_Autos\\vehiculos\\data\\categoria/neo_autos_autos_sedan_nuevos.csv\n",
      "- C:\\Users\\PC\\Desktop\\Proyectos\\Proyectos_Py\\7.Analisis_Autos\\vehiculos\\data\\categoria/neo_autos_autos_sedan_seminuevos.csv\n",
      "- C:\\Users\\PC\\Desktop\\Proyectos\\Proyectos_Py\\7.Analisis_Autos\\vehiculos\\data\\categoria/neo_autos_autos_hatchback_nuevos.csv\n",
      "- C:\\Users\\PC\\Desktop\\Proyectos\\Proyectos_Py\\7.Analisis_Autos\\vehiculos\\data\\categoria/neo_autos_autos_hatchback_seminuevos.csv\n",
      "- C:\\Users\\PC\\Desktop\\Proyectos\\Proyectos_Py\\7.Analisis_Autos\\vehiculos\\data\\categoria/neo_autos_autos_pick-up_nuevos.csv\n",
      "- C:\\Users\\PC\\Desktop\\Proyectos\\Proyectos_Py\\7.Analisis_Autos\\vehiculos\\data\\categoria/neo_autos_autos_pick-up_seminuevos.csv\n",
      "- C:\\Users\\PC\\Desktop\\Proyectos\\Proyectos_Py\\7.Analisis_Autos\\vehiculos\\data\\categoria/neo_autos_autos_deportivo_nuevos.csv\n",
      "- C:\\Users\\PC\\Desktop\\Proyectos\\Proyectos_Py\\7.Analisis_Autos\\vehiculos\\data\\categoria/neo_autos_autos_deportivo_seminuevos.csv\n"
     ]
    },
    {
     "data": {
      "application/vnd.microsoft.datawrangler.viewer.v0+json": {
       "columns": [
        {
         "name": "index",
         "rawType": "int64",
         "type": "integer"
        },
        {
         "name": "titulo",
         "rawType": "object",
         "type": "string"
        },
        {
         "name": "tipo",
         "rawType": "object",
         "type": "string"
        },
        {
         "name": "categoria",
         "rawType": "object",
         "type": "string"
        },
        {
         "name": "marca",
         "rawType": "object",
         "type": "string"
        },
        {
         "name": "modelo",
         "rawType": "object",
         "type": "string"
        },
        {
         "name": "año",
         "rawType": "float64",
         "type": "float"
        },
        {
         "name": "kilometraje_km",
         "rawType": "float64",
         "type": "float"
        },
        {
         "name": "precio",
         "rawType": "float64",
         "type": "float"
        },
        {
         "name": "precio_etiqueta",
         "rawType": "object",
         "type": "string"
        },
        {
         "name": "tipo_transmision",
         "rawType": "object",
         "type": "string"
        },
        {
         "name": "caja",
         "rawType": "object",
         "type": "unknown"
        },
        {
         "name": "detalle",
         "rawType": "object",
         "type": "string"
        },
        {
         "name": "tags",
         "rawType": "object",
         "type": "unknown"
        },
        {
         "name": "ubicacion",
         "rawType": "object",
         "type": "string"
        },
        {
         "name": "url_auto",
         "rawType": "object",
         "type": "string"
        }
       ],
       "ref": "0d64dae2-cc41-4e62-8faa-47dddf7f9420",
       "rows": [
        [
         "0",
         "Hyundai Creta Grand 2025",
         "nuevo",
         "camionetas-suv",
         "Hyundai",
         "Creta Grand",
         "2025.0",
         null,
         "25490.0",
         "$20K - $30K",
         "Automática",
         null,
         "Gasolina|Automática\nLima, Lima",
         null,
         "Lima, Lima",
         "https://neoauto.com/auto/nuevo/hyundai-creta-grand-2025-1848730"
        ],
        [
         "1",
         "Hyundai Creta Grand 2024",
         "nuevo",
         "camionetas-suv",
         "Hyundai",
         "Creta Grand",
         "2024.0",
         "0.0",
         "25490.0",
         "$20K - $30K",
         "Automática",
         null,
         "Gasolina|Automática\nLima, Lima\nAUTO 0 KM A PRECIO DE SEMINUEVO VERSION SPORT",
         null,
         "Lima, Lima",
         "https://neoauto.com/auto/nuevo/hyundai-creta-grand-2024-1846383"
        ],
        [
         "2",
         "Hyundai Creta Grand 2025",
         "nuevo",
         "camionetas-suv",
         "Hyundai",
         "Creta Grand",
         "2025.0",
         "0.0",
         "25490.0",
         "$20K - $30K",
         "Automática",
         null,
         "Gasolina|Automática\nLima, Lima\nAUTO 0 KM A PRECIO DE SEMINUEVO",
         null,
         "Lima, Lima",
         "https://neoauto.com/auto/nuevo/hyundai-creta-grand-2025-1846378"
        ],
        [
         "3",
         "Hyundai Creta Grand 2025",
         "nuevo",
         "camionetas-suv",
         "Hyundai",
         "Creta Grand",
         "2025.0",
         "0.0",
         "25490.0",
         "$20K - $30K",
         "Automática",
         null,
         "Gasolina|Automática\nLima, Lima\nAUTO 0 KM A PRECIO DE SEMINUEVO VERSIÓN FULL",
         null,
         "Lima, Lima",
         "https://neoauto.com/auto/nuevo/hyundai-creta-grand-2025-1846390"
        ],
        [
         "4",
         "Hyundai Creta Grand 2025",
         "nuevo",
         "camionetas-suv",
         "Hyundai",
         "Creta Grand",
         "2025.0",
         null,
         "25490.0",
         "$20K - $30K",
         "Automática",
         null,
         "Gasolina|Automática\nLima, Lima",
         null,
         "Lima, Lima",
         "https://neoauto.com/auto/nuevo/hyundai-creta-grand-2025-1848732"
        ]
       ],
       "shape": {
        "columns": 15,
        "rows": 5
       }
      },
      "text/html": [
       "<div>\n",
       "<style scoped>\n",
       "    .dataframe tbody tr th:only-of-type {\n",
       "        vertical-align: middle;\n",
       "    }\n",
       "\n",
       "    .dataframe tbody tr th {\n",
       "        vertical-align: top;\n",
       "    }\n",
       "\n",
       "    .dataframe thead th {\n",
       "        text-align: right;\n",
       "    }\n",
       "</style>\n",
       "<table border=\"1\" class=\"dataframe\">\n",
       "  <thead>\n",
       "    <tr style=\"text-align: right;\">\n",
       "      <th></th>\n",
       "      <th>titulo</th>\n",
       "      <th>tipo</th>\n",
       "      <th>categoria</th>\n",
       "      <th>marca</th>\n",
       "      <th>modelo</th>\n",
       "      <th>año</th>\n",
       "      <th>kilometraje_km</th>\n",
       "      <th>precio</th>\n",
       "      <th>precio_etiqueta</th>\n",
       "      <th>tipo_transmision</th>\n",
       "      <th>caja</th>\n",
       "      <th>detalle</th>\n",
       "      <th>tags</th>\n",
       "      <th>ubicacion</th>\n",
       "      <th>url_auto</th>\n",
       "    </tr>\n",
       "  </thead>\n",
       "  <tbody>\n",
       "    <tr>\n",
       "      <th>0</th>\n",
       "      <td>Hyundai Creta Grand 2025</td>\n",
       "      <td>nuevo</td>\n",
       "      <td>camionetas-suv</td>\n",
       "      <td>Hyundai</td>\n",
       "      <td>Creta Grand</td>\n",
       "      <td>2025.0</td>\n",
       "      <td>NaN</td>\n",
       "      <td>25490.0</td>\n",
       "      <td>$20K - $30K</td>\n",
       "      <td>Automática</td>\n",
       "      <td>NaN</td>\n",
       "      <td>Gasolina|Automática\\nLima, Lima</td>\n",
       "      <td>NaN</td>\n",
       "      <td>Lima, Lima</td>\n",
       "      <td>https://neoauto.com/auto/nuevo/hyundai-creta-g...</td>\n",
       "    </tr>\n",
       "    <tr>\n",
       "      <th>1</th>\n",
       "      <td>Hyundai Creta Grand 2024</td>\n",
       "      <td>nuevo</td>\n",
       "      <td>camionetas-suv</td>\n",
       "      <td>Hyundai</td>\n",
       "      <td>Creta Grand</td>\n",
       "      <td>2024.0</td>\n",
       "      <td>0.0</td>\n",
       "      <td>25490.0</td>\n",
       "      <td>$20K - $30K</td>\n",
       "      <td>Automática</td>\n",
       "      <td>NaN</td>\n",
       "      <td>Gasolina|Automática\\nLima, Lima\\nAUTO 0 KM A P...</td>\n",
       "      <td>NaN</td>\n",
       "      <td>Lima, Lima</td>\n",
       "      <td>https://neoauto.com/auto/nuevo/hyundai-creta-g...</td>\n",
       "    </tr>\n",
       "    <tr>\n",
       "      <th>2</th>\n",
       "      <td>Hyundai Creta Grand 2025</td>\n",
       "      <td>nuevo</td>\n",
       "      <td>camionetas-suv</td>\n",
       "      <td>Hyundai</td>\n",
       "      <td>Creta Grand</td>\n",
       "      <td>2025.0</td>\n",
       "      <td>0.0</td>\n",
       "      <td>25490.0</td>\n",
       "      <td>$20K - $30K</td>\n",
       "      <td>Automática</td>\n",
       "      <td>NaN</td>\n",
       "      <td>Gasolina|Automática\\nLima, Lima\\nAUTO 0 KM A P...</td>\n",
       "      <td>NaN</td>\n",
       "      <td>Lima, Lima</td>\n",
       "      <td>https://neoauto.com/auto/nuevo/hyundai-creta-g...</td>\n",
       "    </tr>\n",
       "    <tr>\n",
       "      <th>3</th>\n",
       "      <td>Hyundai Creta Grand 2025</td>\n",
       "      <td>nuevo</td>\n",
       "      <td>camionetas-suv</td>\n",
       "      <td>Hyundai</td>\n",
       "      <td>Creta Grand</td>\n",
       "      <td>2025.0</td>\n",
       "      <td>0.0</td>\n",
       "      <td>25490.0</td>\n",
       "      <td>$20K - $30K</td>\n",
       "      <td>Automática</td>\n",
       "      <td>NaN</td>\n",
       "      <td>Gasolina|Automática\\nLima, Lima\\nAUTO 0 KM A P...</td>\n",
       "      <td>NaN</td>\n",
       "      <td>Lima, Lima</td>\n",
       "      <td>https://neoauto.com/auto/nuevo/hyundai-creta-g...</td>\n",
       "    </tr>\n",
       "    <tr>\n",
       "      <th>4</th>\n",
       "      <td>Hyundai Creta Grand 2025</td>\n",
       "      <td>nuevo</td>\n",
       "      <td>camionetas-suv</td>\n",
       "      <td>Hyundai</td>\n",
       "      <td>Creta Grand</td>\n",
       "      <td>2025.0</td>\n",
       "      <td>NaN</td>\n",
       "      <td>25490.0</td>\n",
       "      <td>$20K - $30K</td>\n",
       "      <td>Automática</td>\n",
       "      <td>NaN</td>\n",
       "      <td>Gasolina|Automática\\nLima, Lima</td>\n",
       "      <td>NaN</td>\n",
       "      <td>Lima, Lima</td>\n",
       "      <td>https://neoauto.com/auto/nuevo/hyundai-creta-g...</td>\n",
       "    </tr>\n",
       "  </tbody>\n",
       "</table>\n",
       "</div>"
      ],
      "text/plain": [
       "                     titulo   tipo       categoria    marca       modelo  \\\n",
       "0  Hyundai Creta Grand 2025  nuevo  camionetas-suv  Hyundai  Creta Grand   \n",
       "1  Hyundai Creta Grand 2024  nuevo  camionetas-suv  Hyundai  Creta Grand   \n",
       "2  Hyundai Creta Grand 2025  nuevo  camionetas-suv  Hyundai  Creta Grand   \n",
       "3  Hyundai Creta Grand 2025  nuevo  camionetas-suv  Hyundai  Creta Grand   \n",
       "4  Hyundai Creta Grand 2025  nuevo  camionetas-suv  Hyundai  Creta Grand   \n",
       "\n",
       "      año  kilometraje_km   precio precio_etiqueta tipo_transmision caja  \\\n",
       "0  2025.0             NaN  25490.0     $20K - $30K       Automática  NaN   \n",
       "1  2024.0             0.0  25490.0     $20K - $30K       Automática  NaN   \n",
       "2  2025.0             0.0  25490.0     $20K - $30K       Automática  NaN   \n",
       "3  2025.0             0.0  25490.0     $20K - $30K       Automática  NaN   \n",
       "4  2025.0             NaN  25490.0     $20K - $30K       Automática  NaN   \n",
       "\n",
       "                                             detalle tags   ubicacion  \\\n",
       "0                    Gasolina|Automática\\nLima, Lima  NaN  Lima, Lima   \n",
       "1  Gasolina|Automática\\nLima, Lima\\nAUTO 0 KM A P...  NaN  Lima, Lima   \n",
       "2  Gasolina|Automática\\nLima, Lima\\nAUTO 0 KM A P...  NaN  Lima, Lima   \n",
       "3  Gasolina|Automática\\nLima, Lima\\nAUTO 0 KM A P...  NaN  Lima, Lima   \n",
       "4                    Gasolina|Automática\\nLima, Lima  NaN  Lima, Lima   \n",
       "\n",
       "                                            url_auto  \n",
       "0  https://neoauto.com/auto/nuevo/hyundai-creta-g...  \n",
       "1  https://neoauto.com/auto/nuevo/hyundai-creta-g...  \n",
       "2  https://neoauto.com/auto/nuevo/hyundai-creta-g...  \n",
       "3  https://neoauto.com/auto/nuevo/hyundai-creta-g...  \n",
       "4  https://neoauto.com/auto/nuevo/hyundai-creta-g...  "
      ]
     },
     "execution_count": 57,
     "metadata": {},
     "output_type": "execute_result"
    }
   ],
   "source": [
    "if not ruta_csv:\n",
    "    print(f\"No se encontraron archivos CSV en la ruta: {rutas}\")\n",
    "else:\n",
    "    print(f\"Archivos CSV encontrados ({len(ruta_csv)}):\")\n",
    "    for archivo in ruta_csv:\n",
    "        print(f\"- {archivo}\")\n",
    "\n",
    "    lista_de_dfs = [pd.read_csv(archivo, sep = \"|\") for archivo in archivos_csv]\n",
    "\n",
    "    df_combinado = pd.concat(lista_de_dfs, ignore_index=True)\n",
    "\n",
    "\n",
    "df_combinado.head()"
   ]
  },
  {
   "cell_type": "code",
   "execution_count": 61,
   "id": "f52a14fe",
   "metadata": {},
   "outputs": [],
   "source": [
    "labels_precio = [ \"menor a $5K\", \"$5K - $10K\", \"$10K - $20K\", \"$20K - $30K\", \"$30K - $40K\", \"$40K a más\"]\n",
    "\n",
    "df_combinado[\"precio_etiqueta\"] = pd.cut(\n",
    "    df_combinado[\"precio\"],\n",
    "    bins=[-1, 5000, 10000, 20000, 30000, 40000, float('inf')],\n",
    "    labels=labels_precio\n",
    "    )"
   ]
  },
  {
   "cell_type": "code",
   "execution_count": 62,
   "id": "b57c6b1d",
   "metadata": {},
   "outputs": [
    {
     "name": "stderr",
     "output_type": "stream",
     "text": [
      "C:\\Users\\PC\\AppData\\Local\\Temp\\ipykernel_7784\\2991539154.py:7: FutureWarning: A value is trying to be set on a copy of a DataFrame or Series through chained assignment using an inplace method.\n",
      "The behavior will change in pandas 3.0. This inplace method will never work because the intermediate object on which we are setting values always behaves as a copy.\n",
      "\n",
      "For example, when doing 'df[col].method(value, inplace=True)', try using 'df.method({col: value}, inplace=True)' or df[col] = df[col].method(value) instead, to perform the operation inplace on the original object.\n",
      "\n",
      "\n",
      "  data_final[\"tipo\"].replace({\"nuevos\":\"nuevo\", \"seminuevo\":\"seminuevo\"}, inplace=True)\n"
     ]
    }
   ],
   "source": [
    "cols_obj = [\"titulo\", \"tipo\", \"categoria\",\"marca\", \"modelo\", \"año\", \"kilometraje_km\",\n",
    "            \"precio\", \"precio_etiqueta\", \"tipo_transmision\", \"caja\",\"detalle\",\n",
    "            \"tags\",\"ubicacion\", \"url_auto\"]\n",
    "\n",
    "data_final = df_combinado[cols_obj]\n",
    "\n",
    "data_final[\"tipo\"].replace({\"nuevos\":\"nuevo\", \"seminuevo\":\"seminuevo\"}, inplace=True)"
   ]
  },
  {
   "cell_type": "code",
   "execution_count": 63,
   "id": "f597c2af",
   "metadata": {},
   "outputs": [],
   "source": [
    "data_final[\"tags\"] = data_final[\"tags\"].replace({\n",
    "    \"[]\":\"\",})"
   ]
  },
  {
   "cell_type": "code",
   "execution_count": 64,
   "id": "967c74f5",
   "metadata": {},
   "outputs": [],
   "source": [
    "data_final.to_csv(\"neo_autos_categoria.csv\", index=False, sep=\"|\", encoding=\"utf-8-sig\")\n",
    "data_final.to_excel(\"neo_autos_categoria.xlsx\", index=False)"
   ]
  }
 ],
 "metadata": {
  "kernelspec": {
   "display_name": "Python 3",
   "language": "python",
   "name": "python3"
  },
  "language_info": {
   "codemirror_mode": {
    "name": "ipython",
    "version": 3
   },
   "file_extension": ".py",
   "mimetype": "text/x-python",
   "name": "python",
   "nbconvert_exporter": "python",
   "pygments_lexer": "ipython3",
   "version": "3.11.9"
  }
 },
 "nbformat": 4,
 "nbformat_minor": 5
}
